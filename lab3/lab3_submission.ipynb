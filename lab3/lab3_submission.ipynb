{
 "metadata": {
  "name": ""
 },
 "nbformat": 3,
 "nbformat_minor": 0,
 "worksheets": [
  {
   "cells": [
    {
     "cell_type": "code",
     "collapsed": false,
     "input": [
      "# Import pandas and numpy\n",
      "import pandas as pd\n",
      "import numpy as np\n",
      "\n",
      "# Set some Pandas options\n",
      "pd.set_option('display.notebook_repr_html', False)\n",
      "pd.set_option('display.max_columns', 20)\n",
      "pd.set_option('display.max_rows', 25)"
     ],
     "language": "python",
     "metadata": {},
     "outputs": [],
     "prompt_number": 101
    },
    {
     "cell_type": "markdown",
     "metadata": {},
     "source": [
      "<h2>Dataset Description</h2>"
     ]
    },
    {
     "cell_type": "code",
     "collapsed": false,
     "input": [
      "cdystonia = pd.read_csv(\"data/cdystonia.csv\", index_col=None)\n",
      "cdystonia['twstrs'] = cdystonia['twstrs'].astype(np.float64)\n",
      "cdystonia.head()"
     ],
     "language": "python",
     "metadata": {},
     "outputs": [
      {
       "metadata": {},
       "output_type": "pyout",
       "prompt_number": 102,
       "text": [
        "   patient  obs  week  site  id  treat  age sex  twstrs\n",
        "0        1    1     0     1   1  5000U   65   F      32\n",
        "1        1    2     2     1   1  5000U   65   F      30\n",
        "2        1    3     4     1   1  5000U   65   F      24\n",
        "3        1    4     8     1   1  5000U   65   F      37\n",
        "4        1    5    12     1   1  5000U   65   F      39\n",
        "\n",
        "[5 rows x 9 columns]"
       ]
      }
     ],
     "prompt_number": 102
    },
    {
     "cell_type": "markdown",
     "metadata": {},
     "source": [
      "<h2>Value Replacement</h2>"
     ]
    },
    {
     "cell_type": "code",
     "collapsed": false,
     "input": [
      "cdystonia.treat.value_counts()"
     ],
     "language": "python",
     "metadata": {},
     "outputs": [
      {
       "metadata": {},
       "output_type": "pyout",
       "prompt_number": 103,
       "text": [
        "10000U     213\n",
        "5000U      211\n",
        "Placebo    207\n",
        "dtype: int64"
       ]
      }
     ],
     "prompt_number": 103
    },
    {
     "cell_type": "code",
     "collapsed": false,
     "input": [
      "treat_map = {'Placebo': 0, '5000U': 1, '10000U': 2}"
     ],
     "language": "python",
     "metadata": {},
     "outputs": [],
     "prompt_number": 104
    },
    {
     "cell_type": "markdown",
     "metadata": {},
     "source": [
      "<h4> Exercise </h4>"
     ]
    },
    {
     "cell_type": "code",
     "collapsed": false,
     "input": [
      "cdystonia = cdystonia.replace(to_replace = {\"treat\":treat_map})"
     ],
     "language": "python",
     "metadata": {},
     "outputs": [],
     "prompt_number": 105
    },
    {
     "cell_type": "code",
     "collapsed": false,
     "input": [
      "cdystonia.head()"
     ],
     "language": "python",
     "metadata": {},
     "outputs": [
      {
       "metadata": {},
       "output_type": "pyout",
       "prompt_number": 106,
       "text": [
        "   patient  obs  week  site  id  treat  age sex  twstrs\n",
        "0        1    1     0     1   1      1   65   F      32\n",
        "1        1    2     2     1   1      1   65   F      30\n",
        "2        1    3     4     1   1      1   65   F      24\n",
        "3        1    4     8     1   1      1   65   F      37\n",
        "4        1    5    12     1   1      1   65   F      39\n",
        "\n",
        "[5 rows x 9 columns]"
       ]
      }
     ],
     "prompt_number": 106
    },
    {
     "cell_type": "markdown",
     "metadata": {},
     "source": [
      "<h2> Value discretization </h2>"
     ]
    },
    {
     "cell_type": "code",
     "collapsed": false,
     "input": [
      "cdystonia.age.describe()"
     ],
     "language": "python",
     "metadata": {},
     "outputs": [
      {
       "metadata": {},
       "output_type": "pyout",
       "prompt_number": 107,
       "text": [
        "count    631.000000\n",
        "mean      55.616482\n",
        "std       12.123910\n",
        "min       26.000000\n",
        "25%       46.000000\n",
        "50%       56.000000\n",
        "75%       65.000000\n",
        "max       83.000000\n",
        "Name: age, dtype: float64"
       ]
      }
     ],
     "prompt_number": 107
    },
    {
     "cell_type": "code",
     "collapsed": false,
     "input": [
      "cut_output = pd.cut(cdystonia.age.tolist(), [20,40,60,80,90])"
     ],
     "language": "python",
     "metadata": {},
     "outputs": [],
     "prompt_number": 108
    },
    {
     "cell_type": "code",
     "collapsed": false,
     "input": [
      "cut_output[:30]"
     ],
     "language": "python",
     "metadata": {},
     "outputs": [
      {
       "metadata": {},
       "output_type": "pyout",
       "prompt_number": 109,
       "text": [
        " (60, 80]\n",
        " (60, 80]\n",
        " (60, 80]\n",
        " (60, 80]\n",
        " (60, 80]\n",
        " (60, 80]\n",
        " (60, 80]\n",
        " (60, 80]\n",
        " (60, 80]\n",
        " (60, 80]\n",
        "...\n",
        " (40, 60]\n",
        " (40, 60]\n",
        " (40, 60]\n",
        " (60, 80]\n",
        " (60, 80]\n",
        " (60, 80]\n",
        " (60, 80]\n",
        " (60, 80]\n",
        " (60, 80]\n",
        " (40, 60]\n",
        " (40, 60]\n",
        "Levels (4): Index(['(20, 40]', '(40, 60]', '(60, 80]', '(80, 90]'], dtype=object)\n",
        "Length: 30"
       ]
      }
     ],
     "prompt_number": 109
    },
    {
     "cell_type": "markdown",
     "metadata": {},
     "source": [
      "<h4>Exercise</h4>"
     ]
    },
    {
     "cell_type": "code",
     "collapsed": false,
     "input": [
      "cdystonia[\"ageGroup\"] = pd.cut(cdystonia.age, [20,40,60,80,90], labels=[\"young\",\"middle-aged\",\"old\",\"ancient\"])"
     ],
     "language": "python",
     "metadata": {},
     "outputs": [],
     "prompt_number": 110
    },
    {
     "cell_type": "code",
     "collapsed": false,
     "input": [
      "cdystonia.head()"
     ],
     "language": "python",
     "metadata": {},
     "outputs": [
      {
       "metadata": {},
       "output_type": "pyout",
       "prompt_number": 111,
       "text": [
        "   patient  obs  week  site  id  treat  age sex  twstrs ageGroup\n",
        "0        1    1     0     1   1      1   65   F      32      old\n",
        "1        1    2     2     1   1      1   65   F      30      old\n",
        "2        1    3     4     1   1      1   65   F      24      old\n",
        "3        1    4     8     1   1      1   65   F      37      old\n",
        "4        1    5    12     1   1      1   65   F      39      old\n",
        "\n",
        "[5 rows x 10 columns]"
       ]
      }
     ],
     "prompt_number": 111
    },
    {
     "cell_type": "markdown",
     "metadata": {},
     "source": [
      "<h2> Data Agreggation and GroupBy Operations <h2>"
     ]
    },
    {
     "cell_type": "markdown",
     "metadata": {},
     "source": [
      "<h4>Exercise</h4>"
     ]
    },
    {
     "cell_type": "code",
     "collapsed": false,
     "input": [
      "cdystonia_group = cdystonia.groupby(\"patient\")"
     ],
     "language": "python",
     "metadata": {},
     "outputs": [],
     "prompt_number": 119
    },
    {
     "cell_type": "markdown",
     "metadata": {},
     "source": [
      "<h4> Exercise </h4>"
     ]
    },
    {
     "cell_type": "code",
     "collapsed": false,
     "input": [
      "patientMeanTwstrs = cdystonia_group.aggregate({\"twstrs\" : np.mean})\n",
      "patientMeanTwstrs.columns = ['twstrs_mean']"
     ],
     "language": "python",
     "metadata": {},
     "outputs": [],
     "prompt_number": 132
    },
    {
     "cell_type": "code",
     "collapsed": false,
     "input": [
      "patientMeanTwstrs.head()"
     ],
     "language": "python",
     "metadata": {},
     "outputs": [
      {
       "metadata": {},
       "output_type": "pyout",
       "prompt_number": 133,
       "text": [
        "         twstrs_mean\n",
        "patient             \n",
        "1          33.000000\n",
        "2          47.666667\n",
        "3          30.500000\n",
        "4          60.000000\n",
        "5          46.166667\n",
        "\n",
        "[5 rows x 1 columns]"
       ]
      }
     ],
     "prompt_number": 133
    },
    {
     "cell_type": "markdown",
     "metadata": {},
     "source": [
      "<h4>Exercise</h4>"
     ]
    },
    {
     "cell_type": "code",
     "collapsed": false,
     "input": [
      "normalize = lambda x: (x - np.mean(x))/np.std(x)"
     ],
     "language": "python",
     "metadata": {},
     "outputs": [],
     "prompt_number": 153
    },
    {
     "cell_type": "code",
     "collapsed": false,
     "input": [
      "patientNormalTwstrs = cdystonia_group[\"twstrs\"].transform(normalize)"
     ],
     "language": "python",
     "metadata": {},
     "outputs": [],
     "prompt_number": 154
    },
    {
     "cell_type": "code",
     "collapsed": false,
     "input": [
      "patientNormalTwstrs.head()"
     ],
     "language": "python",
     "metadata": {},
     "outputs": [
      {
       "metadata": {},
       "output_type": "pyout",
       "prompt_number": 155,
       "text": [
        "0   -0.198680\n",
        "1   -0.596040\n",
        "2   -1.788119\n",
        "3    0.794719\n",
        "4    1.192079\n",
        "Name: twstrs, dtype: float64"
       ]
      }
     ],
     "prompt_number": 155
    },
    {
     "cell_type": "code",
     "collapsed": false,
     "input": [],
     "language": "python",
     "metadata": {},
     "outputs": []
    }
   ],
   "metadata": {}
  }
 ]
}