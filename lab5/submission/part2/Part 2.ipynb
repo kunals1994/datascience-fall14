{
 "metadata": {
  "name": ""
 },
 "nbformat": 3,
 "nbformat_minor": 0,
 "worksheets": [
  {
   "cells": [
    {
     "cell_type": "markdown",
     "metadata": {},
     "source": [
      "<h3> 2.1 (NER)</h3>"
     ]
    },
    {
     "cell_type": "code",
     "collapsed": false,
     "input": [
      "import nltk\n",
      "nltk.download()\n",
      "\n",
      "import re"
     ],
     "language": "python",
     "metadata": {},
     "outputs": [
      {
       "output_type": "stream",
       "stream": "stdout",
       "text": [
        "showing info http://nltk.github.com/nltk_data/\n"
       ]
      }
     ],
     "prompt_number": 16
    },
    {
     "cell_type": "code",
     "collapsed": false,
     "input": [
      "articles = \"\"\n",
      "\n",
      "for i in range(1,11):\n",
      "    articles += open(str(i)+\".html\", \"r\").read()\n",
      "\n",
      "articles = re.sub(r'<.*?>', ' ', articles)\n",
      "\n",
      "articles = articles.decode(\"utf-8\")"
     ],
     "language": "python",
     "metadata": {},
     "outputs": [],
     "prompt_number": 38
    },
    {
     "cell_type": "code",
     "collapsed": false,
     "input": [
      "sentences = nltk.sent_tokenize(articles)\n",
      "sentences = [nltk.word_tokenize(sent) for sent in sentences]\n",
      "sentences = [nltk.pos_tag(sent) for sent in sentences]\n"
     ],
     "language": "python",
     "metadata": {},
     "outputs": [],
     "prompt_number": 43
    },
    {
     "cell_type": "code",
     "collapsed": false,
     "input": [
      "out = []\n",
      "\n",
      "for sent in sentences:\n",
      "    for element in nltk.ne_chunk(sent):\n",
      "        if len(element) == 1 and str(element) not in out:\n",
      "            print str(element)"
     ],
     "language": "python",
     "metadata": {},
     "outputs": [
      {
       "output_type": "stream",
       "stream": "stdout",
       "text": [
        "(PERSON Ebola/NNP)\n",
        "(PERSON Published/NNP)\n",
        "(ORGANIZATION Centers/NNPS)\n",
        "(ORGANIZATION Ebola/NNP)\n",
        "(PERSON Dallas/NNP)"
       ]
      },
      {
       "output_type": "stream",
       "stream": "stdout",
       "text": [
        "\n",
        "(PERSON Vinson/NNP)\n",
        "(ORGANIZATION Ebola/NNP)\n",
        "(PERSON Vinson/NNP)"
       ]
      },
      {
       "output_type": "stream",
       "stream": "stdout",
       "text": [
        "\n",
        "(PERSON Vinson/NNP)\n",
        "(GPE Duncan/NNP)"
       ]
      },
      {
       "output_type": "stream",
       "stream": "stdout",
       "text": [
        "\n",
        "(ORGANIZATION CDC/NNP)\n",
        "(GPE Duncan/NNP)\n",
        "(ORGANIZATION CDC/NNP)"
       ]
      },
      {
       "output_type": "stream",
       "stream": "stdout",
       "text": [
        "\n",
        "(PERSON Vinson/NNP)\n",
        "(GPE Cleveland/NNP)\n",
        "(GPE Dallas/NNP)\n",
        "(ORGANIZATION Ebola/NNP)\n",
        "(PERSON Vinson/NNP)"
       ]
      },
      {
       "output_type": "stream",
       "stream": "stdout",
       "text": [
        "\n",
        "(ORGANIZATION CDC/NNP)\n",
        "(PERSON Vinson/NNP)"
       ]
      },
      {
       "output_type": "stream",
       "stream": "stdout",
       "text": [
        "\n",
        "(PERSON Ebola/NNP)\n",
        "(ORGANIZATION CDC/NNP)\n",
        "(PERSON Vinson/NNP)"
       ]
      },
      {
       "output_type": "stream",
       "stream": "stdout",
       "text": [
        "\n",
        "(GPE Ohio/NNP)\n",
        "(PERSON Frieden/NNP)"
       ]
      },
      {
       "output_type": "stream",
       "stream": "stdout",
       "text": [
        "\n",
        "(GPE Duncan/NNP)\n",
        "(ORGANIZATION CDC/NNP)"
       ]
      },
      {
       "output_type": "stream",
       "stream": "stdout",
       "text": [
        "\n",
        "(GPE Frontier/NNP)\n",
        "(GPE Cleveland/NNP)"
       ]
      },
      {
       "output_type": "stream",
       "stream": "stdout",
       "text": [
        "\n",
        "(GPE Denver/NNP)\n",
        "(PERSON Vinson/NNP)"
       ]
      },
      {
       "output_type": "stream",
       "stream": "stdout",
       "text": [
        "\n",
        "(PERSON Frontier/NNP)"
       ]
      },
      {
       "output_type": "stream",
       "stream": "stdout",
       "text": [
        "\n",
        "(ORGANIZATION CDC/NNP)\n",
        "(ORGANIZATION CDC/NNP)"
       ]
      },
      {
       "output_type": "stream",
       "stream": "stdout",
       "text": [
        "\n",
        "(GPE Ebola/NNP)\n",
        "(PERSON Frieden/NNP)"
       ]
      },
      {
       "output_type": "stream",
       "stream": "stdout",
       "text": [
        "\n",
        "(GPE Allergy/NNP)"
       ]
      },
      {
       "output_type": "stream",
       "stream": "stdout",
       "text": [
        "\n",
        "(GPE Health/NNP)\n",
        "(PERSON Duncan/NNP)\n",
        "(GPE Dallas/NNP)\n",
        "(GPE Spain/NNP)\n",
        "(PERSON Ebola/NNP)"
       ]
      },
      {
       "output_type": "stream",
       "stream": "stdout",
       "text": [
        "\n",
        "(GPE Medical/JJ)"
       ]
      },
      {
       "output_type": "stream",
       "stream": "stdout",
       "text": [
        "\n",
        "(ORGANIZATION Associated/NNP)\n",
        "(PERSON Duncan/NNP)\n",
        "(PERSON Vinson/NNP)\n",
        "(GPE Atlanta/NNP)"
       ]
      },
      {
       "output_type": "stream",
       "stream": "stdout",
       "text": [
        "\n",
        "(PERSON Obama/NNP)"
       ]
      },
      {
       "output_type": "stream",
       "stream": "stdout",
       "text": [
        "\n",
        "(GPE U.S./NNP)\n",
        "(ORGANIZATION SWAT/NNP)"
       ]
      },
      {
       "output_type": "stream",
       "stream": "stdout",
       "text": [
        "\n",
        "(ORGANIZATION CDC/NNP)\n",
        "(PERSON Obama/NNP)"
       ]
      },
      {
       "output_type": "stream",
       "stream": "stdout",
       "text": [
        "\n",
        "(ORGANIZATION Ebola/NNP)\n",
        "(GPE Ebola/NNP)"
       ]
      },
      {
       "output_type": "stream",
       "stream": "stdout",
       "text": [
        "\n",
        "(GPE Atlanta/NNP)\n",
        "(PERSON Vinson/NNP)\n",
        "(ORGANIZATION Associated/NNP)"
       ]
      },
      {
       "output_type": "stream",
       "stream": "stdout",
       "text": [
        "\n",
        "(GPE Colorado/NNP)"
       ]
      },
      {
       "output_type": "stream",
       "stream": "stdout",
       "text": [
        "\n",
        "(ORGANIZATION CDATA/NNP)"
       ]
      },
      {
       "output_type": "stream",
       "stream": "stdout",
       "text": [
        "\n",
        "(ORGANIZATION WPRemoteLogin/NNP)\n",
        "(ORGANIZATION CDATA/NNP)"
       ]
      },
      {
       "output_type": "stream",
       "stream": "stdout",
       "text": [
        "\n",
        "(ORGANIZATION addLoadEvent/NNP)\n",
        "(ORGANIZATION CDATA/NNP)"
       ]
      },
      {
       "output_type": "stream",
       "stream": "stdout",
       "text": [
        "\n",
        "(ORGANIZATION SafeCommentsAjax/NNP)\n",
        "(ORGANIZATION CDATA/NNP)"
       ]
      },
      {
       "output_type": "stream",
       "stream": "stdout",
       "text": [
        "\n",
        "(GPE Colorado/NNP)\n",
        "(ORGANIZATION Date/NNP)\n",
        "(ORGANIZATION setTimeout/NNP)\n",
        "(ORGANIZATION useSSL/NNP)\n",
        "(ORGANIZATION useSSL/NNP)\n",
        "(GPE Colorado/NNP)"
       ]
      },
      {
       "output_type": "stream",
       "stream": "stdout",
       "text": [
        "\n",
        "(GPE Colorado/NNP)\n",
        "(ORGANIZATION Credit/NN)\n",
        "(ORGANIZATION Rockies/NNPS)\n",
        "(GPE Google/NNP)"
       ]
      },
      {
       "output_type": "stream",
       "stream": "stdout",
       "text": [
        "\n",
        "(ORGANIZATION Friends/NNPS)\n",
        "(GPE U.S./NNP)"
       ]
      },
      {
       "output_type": "stream",
       "stream": "stdout",
       "text": [
        "\n",
        "(GPE Abortion/NN)"
       ]
      },
      {
       "output_type": "stream",
       "stream": "stdout",
       "text": [
        "\n",
        "(GPE Colorado/NNP)\n",
        "(GPE U.S./NNP)\n",
        "(ORGANIZATION Senate/NNP)\n",
        "(ORGANIZATION Congress/NNP)\n",
        "(ORGANIZATION Colorado/NNP)"
       ]
      },
      {
       "output_type": "stream",
       "stream": "stdout",
       "text": [
        "\n",
        "(ORGANIZATION Intimate/NNP)"
       ]
      },
      {
       "output_type": "stream",
       "stream": "stdout",
       "text": [
        "\n",
        "(ORGANIZATION Udall/NNP)\n",
        "(PERSON Mark/NNP)\n",
        "(GPE Vajayjay/NNP)\n",
        "(GPE Colorado/NNP)\n",
        "(ORGANIZATION Senate/NNP)"
       ]
      },
      {
       "output_type": "stream",
       "stream": "stdout",
       "text": [
        "\n",
        "(GPE Denver/NNP)"
       ]
      },
      {
       "output_type": "stream",
       "stream": "stdout",
       "text": [
        "\n",
        "(GPE JeffCo/NNP)"
       ]
      },
      {
       "output_type": "stream",
       "stream": "stdout",
       "text": [
        "\n",
        "(GPE U.S./NNP)\n",
        "(ORGANIZATION Senate/NNP)\n",
        "(ORGANIZATION Colorado/NNP)"
       ]
      },
      {
       "output_type": "stream",
       "stream": "stdout",
       "text": [
        "\n",
        "(ORGANIZATION Senate/NNP)\n",
        "(ORGANIZATION Democrats/NNPS)\n",
        "(ORGANIZATION Senate/NNP)\n",
        "(ORGANIZATION JeffCo/NNP)"
       ]
      },
      {
       "output_type": "stream",
       "stream": "stdout",
       "text": [
        "\n",
        "(GPE Colorado/NNP)\n",
        "(GPE Colorado/NNP)\n",
        "(PERSON Maher/NNP)\n",
        "(GPE Denver/NNP)\n",
        "(PERSON Maher/NNP)"
       ]
      },
      {
       "output_type": "stream",
       "stream": "stdout",
       "text": [
        "\n",
        "(GPE Denver/NNP)\n",
        "(ORGANIZATION Senate/NNP)"
       ]
      },
      {
       "output_type": "stream",
       "stream": "stdout",
       "text": [
        "\n",
        "(GPE Lakewood/NNP)\n",
        "(GPE Battleground/NNP)\n",
        "(GPE Udall/NNP)"
       ]
      },
      {
       "output_type": "stream",
       "stream": "stdout",
       "text": [
        "\n",
        "(PERSON Boulder/NNP)\n",
        "(GPE Denver/NNP)\n",
        "(PERSON Gardner/NNP)"
       ]
      },
      {
       "output_type": "stream",
       "stream": "stdout",
       "text": [
        "\n",
        "(GPE Colorado/NNP)\n",
        "(GPE Denver/NNP)\n",
        "(PERSON Gardner/NNP)"
       ]
      },
      {
       "output_type": "stream",
       "stream": "stdout",
       "text": [
        "\n",
        "(GPE Udall/NNP)\n",
        "(ORGANIZATION JeffCo/NNP)\n",
        "(GPE Colorado/NNP)"
       ]
      },
      {
       "output_type": "stream",
       "stream": "stdout",
       "text": [
        "\n",
        "(ORGANIZATION JeffCo/NNP)\n",
        "(GPE Colorado/NNP)\n",
        "(GPE Ah/NNP)\n",
        "(PERSON Maher/NNP)"
       ]
      },
      {
       "output_type": "stream",
       "stream": "stdout",
       "text": [
        "\n",
        "(GPE Obama/NNP)\n",
        "(ORGANIZATION Ebola/NNP)"
       ]
      },
      {
       "output_type": "stream",
       "stream": "stdout",
       "text": [
        "\n",
        "(GPE Mideast/NNP)\n",
        "(ORGANIZATION Republican/NNP)"
       ]
      },
      {
       "output_type": "stream",
       "stream": "stdout",
       "text": [
        "\n",
        "(PERSON Ebola/NNP)\n",
        "(ORGANIZATION ISIS/NNP)\n",
        "(ORGANIZATION Democrats/NNPS)\n",
        "(GPE JeffCo/NNP)\n",
        "(ORGANIZATION JeffCo/NNP)\n",
        "(GPE Colorado/NNP)\n",
        "(ORGANIZATION Republican/JJ)"
       ]
      },
      {
       "output_type": "stream",
       "stream": "stdout",
       "text": [
        "\n",
        "(GPE U.S./NNP)\n",
        "(ORGANIZATION Senate/NNP)\n",
        "(ORGANIZATION Labrador/NNP)"
       ]
      },
      {
       "output_type": "stream",
       "stream": "stdout",
       "text": [
        "\n",
        "(PERSON Udall/NNP)\n",
        "(PERSON Menten/NNP)\n",
        "(ORGANIZATION Republican/JJ)\n",
        "(PERSON Stepford/NNP)"
       ]
      },
      {
       "output_type": "stream",
       "stream": "stdout",
       "text": [
        "\n",
        "(ORGANIZATION JeffCo/NNP)"
       ]
      },
      {
       "output_type": "stream",
       "stream": "stdout",
       "text": [
        "\n",
        "(ORGANIZATION Republican/NNP)\n",
        "(GPE Colorado/NNP)\n",
        "(GPE U.S./NNP)"
       ]
      },
      {
       "output_type": "stream",
       "stream": "stdout",
       "text": [
        "\n",
        "(GPE Menten/NNP)"
       ]
      },
      {
       "output_type": "stream",
       "stream": "stdout",
       "text": [
        "\n",
        "(PERSON Barnes/NNP)\n",
        "(PERSON Barnes/NNS)"
       ]
      },
      {
       "output_type": "stream",
       "stream": "stdout",
       "text": [
        "\n",
        "(ORGANIZATION Republican/NNP)\n",
        "(PERSON Lois/NNP)"
       ]
      },
      {
       "output_type": "stream",
       "stream": "stdout",
       "text": [
        "\n",
        "(ORGANIZATION Florkey/NNP)\n",
        "(PERSON McConnell/NNP)"
       ]
      },
      {
       "output_type": "stream",
       "stream": "stdout",
       "text": [
        "\n",
        "(PERSON Gardner/NNP)"
       ]
      },
      {
       "output_type": "stream",
       "stream": "stdout",
       "text": [
        "\n",
        "(GPE Udall/NNP)"
       ]
      },
      {
       "output_type": "stream",
       "stream": "stdout",
       "text": [
        "\n",
        "(PERSON Florkey/NNP)"
       ]
      },
      {
       "output_type": "stream",
       "stream": "stdout",
       "text": [
        "\n",
        "(PERSON Perhaps/NNP)"
       ]
      },
      {
       "output_type": "stream",
       "stream": "stdout",
       "text": [
        "\n",
        "(ORGANIZATION JeffCo/NNP)"
       ]
      },
      {
       "output_type": "stream",
       "stream": "stdout",
       "text": [
        "\n",
        "(GPE Colorado/NNP)\n",
        "(GPE Colorado/NNP)"
       ]
      },
      {
       "output_type": "stream",
       "stream": "stdout",
       "text": [
        "\n",
        "(GPE Seated/NNP)"
       ]
      },
      {
       "output_type": "stream",
       "stream": "stdout",
       "text": [
        "\n",
        "(GPE Colorado/NNP)\n",
        "(PERSON Lay/NNP)"
       ]
      },
      {
       "output_type": "stream",
       "stream": "stdout",
       "text": [
        "\n",
        "(PERSON Obama/NNP)"
       ]
      },
      {
       "output_type": "stream",
       "stream": "stdout",
       "text": [
        "\n",
        "(PERSON Hillary/NNP)\n",
        "(ORGANIZATION Senate/NNP)\n",
        "(ORGANIZATION Democrat/NNP)"
       ]
      },
      {
       "output_type": "stream",
       "stream": "stdout",
       "text": [
        "\n",
        "(ORGANIZATION Republican/JJ)\n",
        "(GPE Denver/NNP)\n",
        "(GPE Minnesota/NNP)"
       ]
      },
      {
       "output_type": "stream",
       "stream": "stdout",
       "text": [
        "\n",
        "(PERSON Marsden/NNP)\n",
        "(ORGANIZATION Democrats/NNPS)\n",
        "(ORGANIZATION FDR/NNP)\n",
        "(ORGANIZATION JFK/NNP)\n",
        "(GPE South/NNP)"
       ]
      },
      {
       "output_type": "stream",
       "stream": "stdout",
       "text": [
        "\n",
        "(GPE Marsden/NNP)\n",
        "(GPE Christian/JJ)\n",
        "(ORGANIZATION Republican/JJ)"
       ]
      },
      {
       "output_type": "stream",
       "stream": "stdout",
       "text": [
        "\n",
        "(PERSON Marsden/NNP)\n",
        "(GPE Gardner/NNP)"
       ]
      },
      {
       "output_type": "stream",
       "stream": "stdout",
       "text": [
        "\n",
        "(PERSON Marsden/NNP)"
       ]
      },
      {
       "output_type": "stream",
       "stream": "stdout",
       "text": [
        "\n",
        "(GPE American/NNP)"
       ]
      },
      {
       "output_type": "stream",
       "stream": "stdout",
       "text": [
        "\n",
        "(GPE Turning/NNP)"
       ]
      },
      {
       "output_type": "stream",
       "stream": "stdout",
       "text": [
        "\n",
        "(PERSON Sister/NNP)"
       ]
      },
      {
       "output_type": "stream",
       "stream": "stdout",
       "text": [
        "\n",
        "(ORGANIZATION Udall/NNP)"
       ]
      },
      {
       "output_type": "stream",
       "stream": "stdout",
       "text": [
        "\n",
        "(GPE Denver/NNP)"
       ]
      },
      {
       "output_type": "stream",
       "stream": "stdout",
       "text": [
        "\n",
        "(PERSON Millennial/NNP)"
       ]
      },
      {
       "output_type": "stream",
       "stream": "stdout",
       "text": [
        "\n",
        "(PERSON Maher/NNP)"
       ]
      },
      {
       "output_type": "stream",
       "stream": "stdout",
       "text": [
        "\n",
        "(PERSON Colorado/NNP)\n",
        "(PERSON Bush/NNP)"
       ]
      },
      {
       "output_type": "stream",
       "stream": "stdout",
       "text": [
        "\n",
        "(GPE U.S./NNP)\n",
        "(ORGANIZATION Senate/NNP)\n",
        "(ORGANIZATION Congress/NNP)\n",
        "(GPE Colorado/NNP)\n",
        "(ORGANIZATION Senate/NNP)"
       ]
      },
      {
       "output_type": "stream",
       "stream": "stdout",
       "text": [
        "\n",
        "(GPE Princeton/NNP)\n",
        "(GPE Udall/NNP)\n",
        "(PERSON Gardner/NNP)"
       ]
      },
      {
       "output_type": "stream",
       "stream": "stdout",
       "text": [
        "\n",
        "(ORGANIZATION Udall/NNP)\n",
        "(GPE Maher/NNP)\n",
        "(PERSON Gardner/NNP)"
       ]
      },
      {
       "output_type": "stream",
       "stream": "stdout",
       "text": [
        "\n",
        "(PERSON Udall/NNP)\n",
        "(ORGANIZATION Post/NNP)\n",
        "(PERSON Maher/NNP)\n",
        "(ORGANIZATION Senate/NNP)"
       ]
      },
      {
       "output_type": "stream",
       "stream": "stdout",
       "text": [
        "\n",
        "(PERSON Maher/NNP)"
       ]
      },
      {
       "output_type": "stream",
       "stream": "stdout",
       "text": [
        "\n",
        "(ORGANIZATION XYZ/NNP)"
       ]
      },
      {
       "output_type": "stream",
       "stream": "stdout",
       "text": [
        "\n",
        "(PERSON Whoa/NNP)\n",
        "(GPE Boom/NNP)\n",
        "(ORGANIZATION Senate/NNP)"
       ]
      },
      {
       "output_type": "stream",
       "stream": "stdout",
       "text": [
        "\n",
        "(GPE Trademark/NNP)"
       ]
      },
      {
       "output_type": "stream",
       "stream": "stdout",
       "text": [
        "\n",
        "(GPE Filed/NNP)"
       ]
      },
      {
       "output_type": "stream",
       "stream": "stdout",
       "text": [
        "\n",
        "(GPE Fill/NNP)"
       ]
      },
      {
       "output_type": "stream",
       "stream": "stdout",
       "text": [
        "\n",
        "(ORGANIZATION Address/NNP)\n",
        "(GPE jQuery/NNP)"
       ]
      },
      {
       "output_type": "stream",
       "stream": "stdout",
       "text": [
        "\n",
        "(ORGANIZATION jQuery/NNP)\n",
        "(ORGANIZATION jQuery/NNP)\n",
        "(GPE jQuery/NNP)\n",
        "(GPE jQuery/NNP)\n",
        "(GPE setInterval/NNP)\n",
        "(GPE jQuery/NNP)\n",
        "(GPE jQuery/NNP)\n",
        "(GPE jQuery/NNP)\n",
        "(GPE jQuery/NNP)\n",
        "(GPE jQuery/NNP)\n",
        "(ORGANIZATION Channel/NNP)"
       ]
      },
      {
       "output_type": "stream",
       "stream": "stdout",
       "text": [
        "\n",
        "(PERSON Popular/JJ)"
       ]
      },
      {
       "output_type": "stream",
       "stream": "stdout",
       "text": [
        "\n",
        "(ORGANIZATION Halloween/NNP)\n",
        "(PERSON Baby/NNP)\n",
        "(PERSON Denver/NNP)\n",
        "(GPE Wash/NNP)\n",
        "(GPE Colorado/NNP)\n",
        "(PERSON Clinton/NNP)\n",
        "(PERSON Udall/NNP)\n",
        "(ORGANIZATION Hickenlooper/NNP)\n",
        "(GPE Colorado/NNP)\n",
        "(PERSON Beauprez/NNP)\n",
        "(PERSON Gardner/NNP)\n",
        "(GPE Udall/NNP)\n",
        "(ORGANIZATION Hickenlooper/NNP)\n",
        "(ORGANIZATION Democrats/NNPS)\n",
        "(PERSON Gardner/NNP)\n",
        "(PERSON Gardner/NNP)\n",
        "(ORGANIZATION Democratic/JJ)\n",
        "(GPE Udall/NNP)\n",
        "(ORGANIZATION Democrats/NNPS)\n",
        "(ORGANIZATION Aurora/NNP)\n",
        "(GPE Hickenlooper/NNP)\n",
        "(ORGANIZATION Service/NNP)"
       ]
      },
      {
       "output_type": "stream",
       "stream": "stdout",
       "text": [
        "\n",
        "(GPE East/NNP)\n",
        "(ORGANIZATION Colorado/NNP)"
       ]
      },
      {
       "output_type": "stream",
       "stream": "stdout",
       "text": [
        "\n",
        "(ORGANIZATION KWGN/NNP)\n",
        "(ORGANIZATION loadChartbeat/NNP)"
       ]
      },
      {
       "output_type": "stream",
       "stream": "stdout",
       "text": [
        "\n",
        "(ORGANIZATION Date/NNP)\n",
        "(GPE loadChartbeat/NNP)"
       ]
      },
      {
       "output_type": "stream",
       "stream": "stdout",
       "text": [
        "\n",
        "(GPE loadChartbeat/NNP)\n",
        "(ORGANIZATION CDATA/NNP)"
       ]
      },
      {
       "output_type": "stream",
       "stream": "stdout",
       "text": [
        "\n",
        "(ORGANIZATION submittingText/NNP)\n",
        "(ORGANIZATION commentingAsText/NNP)\n",
        "(ORGANIZATION logoutText/NNP)"
       ]
      },
      {
       "output_type": "stream",
       "stream": "stdout",
       "text": [
        "\n",
        "(ORGANIZATION loginText/NNP)\n",
        "(ORGANIZATION connectURL/NNP)\n",
        "(ORGANIZATION logoutURL/NNP)\n",
        "(ORGANIZATION homeURL/NNP)\n",
        "(ORGANIZATION postID/NNP)\n",
        "(ORGANIZATION enterEmailError/NNP)\n",
        "(PERSON Click/NNP)\n",
        "(ORGANIZATION logInToExternalAccount/NNP)\n",
        "(ORGANIZATION userIsLoggedIn/NNP)"
       ]
      },
      {
       "output_type": "stream",
       "stream": "stdout",
       "text": [
        "\n",
        "(GPE jQuery/NNP)\n",
        "(GPE jQuery/NNP)\n",
        "(ORGANIZATION jQuery/NNP)\n",
        "(GPE jQuery/NNP)\n",
        "(GPE jQuery/NNP)\n",
        "(ORGANIZATION jQuery/NNP)\n",
        "(GPE jQuery/NNP)\n",
        "(GPE jQuery/NNP)\n",
        "(ORGANIZATION jQuery/NNP)\n",
        "(GPE jQuery/NNP)\n",
        "(GPE jQuery/NNP)\n",
        "(GPE jQuery/NNP)"
       ]
      },
      {
       "output_type": "stream",
       "stream": "stdout",
       "text": [
        "\n",
        "(GPE jQuery/NNP)\n",
        "(ORGANIZATION jQuery/NNP)\n",
        "(PERSON Email/NNP)\n",
        "(PERSON Sorry/NNP)\n",
        "(ORGANIZATION CDATA/NNP)"
       ]
      },
      {
       "output_type": "stream",
       "stream": "stdout",
       "text": [
        "\n",
        "(ORGANIZATION wpcomVipAnalytics/NNP)\n",
        "(ORGANIZATION CDATA/NNP)"
       ]
      },
      {
       "output_type": "stream",
       "stream": "stdout",
       "text": [
        "\n",
        "(ORGANIZATION FB_WP/NNP)\n",
        "(ORGANIZATION CDATA/NNP)"
       ]
      },
      {
       "output_type": "stream",
       "stream": "stdout",
       "text": [
        "\n",
        "(ORGANIZATION CDATA/NNP)"
       ]
      },
      {
       "output_type": "stream",
       "stream": "stdout",
       "text": [
        "\n",
        "(ORGANIZATION addLoadEvent/NNP)\n",
        "(GPE Mexican/NNP)\n",
        "(PERSON Module/NNP)\n",
        "(ORGANIZATION NAWAIWAQT/NNP)\n",
        "(GPE Follow/NNP)\n",
        "(ORGANIZATION ePaper/NNP)\n",
        "(GPE India/NNP)\n",
        "(GPE Layyah/NNP)\n",
        "(GPE Mexican/NNP)\n",
        "(PERSON Transit/NNP)\n",
        "(GPE India/NNP)\n",
        "(ORGANIZATION PEW/NNP)\n",
        "(ORGANIZATION US/NNP)\n",
        "(GPE Pakistan/NNP)\n",
        "(GPE Lower/NNP)\n",
        "(PERSON Transit/NNP)\n",
        "(GPE India/NNP)\n",
        "(GPE Lower/NNP)\n",
        "(GPE Pakistan/NNP)\n",
        "(ORGANIZATION RECENT/NN)\n",
        "(ORGANIZATION ACTIVITY/NN)\n",
        "(ORGANIZATION MAGAZINES/NNS)\n",
        "(ORGANIZATION CONNECT/VBP)\n",
        "(GPE Follow/NNP)\n",
        "(PERSON Read/NNP)"
       ]
      },
      {
       "output_type": "stream",
       "stream": "stdout",
       "text": [
        "\n",
        "(GPE Mexican/NNP)\n",
        "(ORGANIZATION MEXICO/NNP)\n",
        "(GPE Mexican/NNP)\n",
        "(GPE California/NNP)\n",
        "(GPE Mexican/NNP)\n",
        "(PERSON Andrew/NNP)"
       ]
      },
      {
       "output_type": "stream",
       "stream": "stdout",
       "text": [
        "\n",
        "(ORGANIZATION Tahmooressi/NNP)\n",
        "(GPE American/NNP)\n",
        "(GPE Afghanistan/NNP)\n",
        "(GPE Mexico/NNP)\n",
        "(GPE Mexican/NNP)\n",
        "(GPE Tijuana/NNP)\n",
        "(GPE Tijuana/NNP)"
       ]
      },
      {
       "output_type": "stream",
       "stream": "stdout",
       "text": [
        "\n",
        "(ORGANIZATION PTSD/NNP)\n",
        "(GPE Mexico/NNP)"
       ]
      },
      {
       "output_type": "stream",
       "stream": "stdout",
       "text": [
        "\n",
        "(GPE Tijuana/NNP)\n",
        "(ORGANIZATION Reuters/NNP)\n",
        "(GPE Tahmooressi/NNP)"
       ]
      },
      {
       "output_type": "stream",
       "stream": "stdout",
       "text": [
        "\n",
        "(GSP US/NNP)\n",
        "(ORGANIZATION House/NNP)\n",
        "(ORGANIZATION Representatives/NNPS)\n",
        "(GPE Mexico/NNP)\n",
        "(PERSON Andrew/NNP)"
       ]
      },
      {
       "output_type": "stream",
       "stream": "stdout",
       "text": [
        "\n",
        "(GPE Mexican/NNP)\n",
        "(GPE Tahmooressi/NNP)"
       ]
      },
      {
       "output_type": "stream",
       "stream": "stdout",
       "text": [
        "\n",
        "(PERSON Tahmooressi/NNP)"
       ]
      },
      {
       "output_type": "stream",
       "stream": "stdout",
       "text": [
        "\n",
        "(GPE Mexico/NNP)\n",
        "(GPE Mexico/NNP)"
       ]
      },
      {
       "output_type": "stream",
       "stream": "stdout",
       "text": [
        "\n",
        "(PERSON Andrew/NNP)\n",
        "(PERSON Richardson/NNP)\n",
        "(ORGANIZATION Republican/JJ)\n",
        "(ORGANIZATION Tahmooressi/NNP)\n",
        "(PERSON Tahmooressi/NNP)"
       ]
      },
      {
       "output_type": "stream",
       "stream": "stdout",
       "text": [
        "\n",
        "(GPE Mexico/NNP)\n",
        "(GPE San/NNP)\n",
        "(ORGANIZATION PTSD/NNP)\n",
        "(GPE Mexican/NNP)\n",
        "(PERSON Tahmooressi/NNP)\n",
        "(GPE Indian/NNP)"
       ]
      },
      {
       "output_type": "stream",
       "stream": "stdout",
       "text": [
        "\n",
        "(GPE Italian/JJ)\n",
        "(ORGANIZATION AFP/NNP)\n",
        "(GPE Italy/NNP)\n",
        "(GPE India/NNP)\n",
        "(ORGANIZATION AFP/NNP)\n",
        "(GPE Iran/NNP)\n",
        "(ORGANIZATION AFP/NNP)\n",
        "(GPE Haditha/NNP)\n",
        "(ORGANIZATION International/NNP)\n",
        "(ORGANIZATION AFP/NNP)\n",
        "(GPE European/JJ)\n",
        "(ORGANIZATION Commission/NN)\n",
        "(GPE EU/NNP)\n",
        "(PERSON Juncker/NNP)\n",
        "(ORGANIZATION US/NNP)\n",
        "(GPE Russia/NNP)\n",
        "(GPE Europe/NNP)\n",
        "(GPE Russian/JJ)\n",
        "(GPE Australia/NNP)\n",
        "(ORGANIZATION NZ/NNP)\n",
        "(ORGANIZATION WWI/NNP)\n",
        "(ORGANIZATION Scots/NNPS)\n",
        "(GPE French/JJ)\n",
        "(GPE Egypt/NNP)\n",
        "(ORGANIZATION BELOW/NNP)\n",
        "(ORGANIZATION JavaScript/NNP)\n",
        "(PERSON Disqus/NNP)\n",
        "(ORGANIZATION Disqus/NNP)"
       ]
      },
      {
       "output_type": "stream",
       "stream": "stdout",
       "text": [
        "\n",
        "(ORGANIZATION NAWAIWAQT/NNP)\n",
        "(ORGANIZATION Conditions/NNP)\n",
        "(ORGANIZATION arrFrames/NNP)\n",
        "(ORGANIZATION arrFrames/NNP)\n",
        "(ORGANIZATION CDATA/NNP)"
       ]
      },
      {
       "output_type": "stream",
       "stream": "stdout",
       "text": [
        "\n",
        "(ORGANIZATION CDATA/NNP)"
       ]
      },
      {
       "output_type": "stream",
       "stream": "stdout",
       "text": [
        "\n",
        "(PERSON Javascript/NNP)\n",
        "(ORGANIZATION URL/NNP)"
       ]
      },
      {
       "output_type": "stream",
       "stream": "stdout",
       "text": [
        "\n",
        "(ORGANIZATION CDATA/NNP)"
       ]
      },
      {
       "output_type": "stream",
       "stream": "stdout",
       "text": [
        "\n",
        "(PERSON Celtics/NNP)\n",
        "(GPE Sports/NNS)\n",
        "(ORGANIZATION Boston/NNP)\n",
        "(ORGANIZATION createElementNS/NNP)\n",
        "(ORGANIZATION useSSL/NNP)\n",
        "(ORGANIZATION useSSL/NNP)\n",
        "(ORGANIZATION JSON/NNP)"
       ]
      },
      {
       "output_type": "stream",
       "stream": "stdout",
       "text": [
        "\n",
        "(ORGANIZATION segArray/NNP)\n",
        "(ORGANIZATION segArray/NNP)"
       ]
      },
      {
       "output_type": "stream",
       "stream": "stdout",
       "text": [
        "\n",
        "(ORGANIZATION tempScriptTag/NNP)\n",
        "(ORGANIZATION tempScriptTag/NNP)\n",
        "(PERSON Paper/NNP)"
       ]
      },
      {
       "output_type": "stream",
       "stream": "stdout",
       "text": [
        "\n",
        "(PERSON Paper/NNP)\n",
        "(PERSON Coakley/NNP)\n",
        "(ORGANIZATION Business/NNP)\n",
        "(GPE Ebola/NNP)\n",
        "(PERSON Maine/NNP)\n",
        "(PERSON Place/NNP)\n",
        "(ORGANIZATION CELTICS/NNP)\n",
        "(ORGANIZATION leadingShape/NNP)"
       ]
      },
      {
       "output_type": "stream",
       "stream": "stdout",
       "text": [
        "\n",
        "(ORGANIZATION HOUSTON/NNP)\n",
        "(GPE First/NNP)"
       ]
      },
      {
       "output_type": "stream",
       "stream": "stdout",
       "text": [
        "\n",
        "(GPE Second/JJ)\n",
        "(GSP Continue/NNP)"
       ]
      },
      {
       "output_type": "stream",
       "stream": "stdout",
       "text": [
        "\n",
        "(ORGANIZATION Celtics/NNP)\n",
        "(PERSON Rondo/NNP)"
       ]
      },
      {
       "output_type": "stream",
       "stream": "stdout",
       "text": [
        "\n",
        "(PERSON Rondo/NNP)"
       ]
      },
      {
       "output_type": "stream",
       "stream": "stdout",
       "text": [
        "\n",
        "(PERSON Rondo/NNP)"
       ]
      },
      {
       "output_type": "stream",
       "stream": "stdout",
       "text": [
        "\n",
        "(PERSON Avery/NNP)"
       ]
      },
      {
       "output_type": "stream",
       "stream": "stdout",
       "text": [
        "\n",
        "(PERSON Bradley/NNP)\n",
        "(PERSON Jeff/NNP)\n",
        "(ORGANIZATION Rockets/NNPS)"
       ]
      },
      {
       "output_type": "stream",
       "stream": "stdout",
       "text": [
        "\n",
        "(PERSON Rondo/NNP)\n",
        "(ORGANIZATION Nets/NNPS)\n",
        "(ORGANIZATION Celtics/NNP)\n",
        "(PERSON Rondo/NNP)"
       ]
      },
      {
       "output_type": "stream",
       "stream": "stdout",
       "text": [
        "\n",
        "(ORGANIZATION Celtics/NNP)\n",
        "(PERSON Magic/NNP)\n",
        "(PERSON Howard/NNP)"
       ]
      },
      {
       "output_type": "stream",
       "stream": "stdout",
       "text": [
        "\n",
        "(PERSON Rondo/NNP)"
       ]
      },
      {
       "output_type": "stream",
       "stream": "stdout",
       "text": [
        "\n",
        "(PERSON Rondo/NNP)"
       ]
      },
      {
       "output_type": "stream",
       "stream": "stdout",
       "text": [
        "\n",
        "(ORGANIZATION KG/NNP)\n",
        "(PERSON Wallace/NN)"
       ]
      },
      {
       "output_type": "stream",
       "stream": "stdout",
       "text": [
        "\n",
        "(GPE Health/NNP)\n",
        "(PERSON Wallace/NNP)"
       ]
      },
      {
       "output_type": "stream",
       "stream": "stdout",
       "text": [
        "\n",
        "(PERSON Wallace/NNP)"
       ]
      },
      {
       "output_type": "stream",
       "stream": "stdout",
       "text": [
        "\n",
        "(ORGANIZATION Rockets/NNPS)"
       ]
      },
      {
       "output_type": "stream",
       "stream": "stdout",
       "text": [
        "\n",
        "(ORGANIZATION Celtics/NNP)\n",
        "(GPE Boston/NNP)"
       ]
      },
      {
       "output_type": "stream",
       "stream": "stdout",
       "text": [
        "\n",
        "(ORGANIZATION McHale/NNP)\n",
        "(PERSON Howard/NNP)"
       ]
      },
      {
       "output_type": "stream",
       "stream": "stdout",
       "text": [
        "\n",
        "(PERSON Celtics/NNP)\n",
        "(ORGANIZATION McHale/NNP)\n",
        "(PERSON Sorry/NNP)\n",
        "(PERSON Coach/NNP)\n",
        "(ORGANIZATION Rockets/NNPS)"
       ]
      },
      {
       "output_type": "stream",
       "stream": "stdout",
       "text": [
        "\n",
        "(PERSON Isaiah/NNP)"
       ]
      },
      {
       "output_type": "stream",
       "stream": "stdout",
       "text": [
        "\n",
        "(GPE Canaan/NNP)\n",
        "(ORGANIZATION Rockets/NNPS)\n",
        "(PERSON Nick/NNP)"
       ]
      },
      {
       "output_type": "stream",
       "stream": "stdout",
       "text": [
        "\n",
        "(PERSON Johnson/NNP)\n",
        "(GPE Celtics/NNP)\n",
        "(ORGANIZATION Rockets/NNPS)\n",
        "(PERSON Gary/NNP)\n",
        "(ORGANIZATION Washburn/NNP)\n",
        "(PERSON Twitter/NNP)\n",
        "(ORGANIZATION BGM/NNP)"
       ]
      },
      {
       "output_type": "stream",
       "stream": "stdout",
       "text": [
        "\n",
        "(ORGANIZATION LLC/NNP)\n",
        "(PERSON Get/NN)\n",
        "(GSP Continue/NNP)"
       ]
      },
      {
       "output_type": "stream",
       "stream": "stdout",
       "text": [
        "\n",
        "(GSP Continue/NNP)"
       ]
      },
      {
       "output_type": "stream",
       "stream": "stdout",
       "text": [
        "\n",
        "(GSP Continue/NNP)"
       ]
      },
      {
       "output_type": "stream",
       "stream": "stdout",
       "text": [
        "\n",
        "(GSP Continue/NNP)\n",
        "(GPE Get/NN)"
       ]
      },
      {
       "output_type": "stream",
       "stream": "stdout",
       "text": [
        "\n",
        "(ORGANIZATION SIGN/NNP)\n",
        "(ORGANIZATION Continue/NNP)"
       ]
      },
      {
       "output_type": "stream",
       "stream": "stdout",
       "text": [
        "\n",
        "(GSP Continue/NNP)\n",
        "(PERSON Stay/NNP)"
       ]
      },
      {
       "output_type": "stream",
       "stream": "stdout",
       "text": [
        "\n",
        "(ORGANIZATION eBooks/NNP)"
       ]
      },
      {
       "output_type": "stream",
       "stream": "stdout",
       "text": [
        "\n",
        "(ORGANIZATION GET/NN)\n",
        "(ORGANIZATION FULL/NNP)\n",
        "(ORGANIZATION ACCESS/NNP)\n",
        "(ORGANIZATION sPageName/NNP)\n",
        "(PERSON Celtics/NNP)\n",
        "(ORGANIZATION sChannel/NNP)\n",
        "(ORGANIZATION sProp1/NNP)\n",
        "(ORGANIZATION sProp3/NNP)\n",
        "(ORGANIZATION sProp6/NNP)\n",
        "(ORGANIZATION sChannel/NNP)\n",
        "(ORGANIZATION sProp1/NNP)\n",
        "(ORGANIZATION Center/NNP)\n",
        "(ORGANIZATION sPageName/NNP)\n",
        "(ORGANIZATION sProp6/NNP)\n",
        "(PERSON Page/NNP)\n",
        "(PERSON Fullpage/NNP)\n",
        "(ORGANIZATION sPageName/NNP)\n",
        "(ORGANIZATION sProp6/NNP)\n",
        "(PERSON Page/NNP)\n",
        "(PERSON Modal/NNP)\n",
        "(ORGANIZATION sChannel/NNP)\n",
        "(ORGANIZATION sProp1/NNP)\n",
        "(ORGANIZATION sProp3/NNP)\n",
        "(ORGANIZATION sProp6/NNP)\n",
        "(ORGANIZATION setTimeout/NNP)\n",
        "(ORGANIZATION Date/NNP)"
       ]
      },
      {
       "output_type": "stream",
       "stream": "stdout",
       "text": [
        "\n",
        "(GPE Fossil/NNP)\n",
        "(ORGANIZATION IPCC/NNP)\n",
        "(ORGANIZATION Date/NNP)\n",
        "(ORGANIZATION CDATA/NNP)"
       ]
      },
      {
       "output_type": "stream",
       "stream": "stdout",
       "text": [
        "\n",
        "(ORGANIZATION CDATA/NNP)"
       ]
      },
      {
       "output_type": "stream",
       "stream": "stdout",
       "text": [
        "\n",
        "(GPE b=g.match/JJ)\n",
        "(ORGANIZATION decodeURIComponent/NNP)"
       ]
      },
      {
       "output_type": "stream",
       "stream": "stdout",
       "text": [
        "\n",
        "(ORGANIZATION setNoFigCookie/NNP)\n",
        "(ORGANIZATION Date/NNP)\n",
        "(ORGANIZATION setFig/NNP)\n",
        "(ORGANIZATION Date/NNP)"
       ]
      },
      {
       "output_type": "stream",
       "stream": "stdout",
       "text": [
        "\n",
        "(ORGANIZATION Date/NNP)\n",
        "(ORGANIZATION rollingExpire/NNP)\n",
        "(ORGANIZATION daysFromNow/NNP)\n",
        "(ORGANIZATION endDate/NNP)\n",
        "(ORGANIZATION endDate/NNP)\n",
        "(ORGANIZATION storeData/NNP)\n",
        "(ORGANIZATION storeData/NNP)\n",
        "(ORGANIZATION storeData/NNP)\n",
        "(ORGANIZATION storeData/NNP)\n",
        "(ORGANIZATION storeData/NNP)\n",
        "(GPE validateCookieName/NNP)\n",
        "(ORGANIZATION OBJECT_TOKEN/NNP)\n",
        "(ORGANIZATION objectPattern/NNP)\n",
        "(ORGANIZATION objectPattern/NNP)\n",
        "(ORGANIZATION OBJECT_TOKEN/NNP)\n",
        "(ORGANIZATION validateCookieName/NNP)\n",
        "(GPE Illegal/NNP)\n",
        "(ORGANIZATION _setPolicy/NNP)"
       ]
      },
      {
       "output_type": "stream",
       "stream": "stdout",
       "text": [
        "\n",
        "(ORGANIZATION readPolicy/NNP)\n",
        "(ORGANIZATION _deletePolicy/NNP)\n",
        "(ORGANIZATION isAllowed/NNP)\n",
        "(ORGANIZATION _isConfirmed/NNP)\n",
        "(ORGANIZATION _acceptsAll/NNP)\n",
        "(ORGANIZATION _getCookieName/NNP)"
       ]
      },
      {
       "output_type": "stream",
       "stream": "stdout",
       "text": [
        "\n",
        "(ORGANIZATION _showPrompt/NNP)\n",
        "(ORGANIZATION Date/NNP)\n",
        "(ORGANIZATION RegExp/NNP)\n",
        "(GPE p=document.cookie.match/JJ)"
       ]
      },
      {
       "output_type": "stream",
       "stream": "stdout",
       "text": [
        "\n",
        "(GPE waitSeconds/NNP)"
       ]
      },
      {
       "output_type": "stream",
       "stream": "stdout",
       "text": [
        "\n",
        "(ORGANIZATION IE6/NNP)\n",
        "(ORGANIZATION CDATA/NNP)"
       ]
      },
      {
       "output_type": "stream",
       "stream": "stdout",
       "text": [
        "\n",
        "(ORGANIZATION editionToServe/NNP)"
       ]
      },
      {
       "output_type": "stream",
       "stream": "stdout",
       "text": [
        "\n",
        "(ORGANIZATION sectionPath/NNP)\n",
        "(ORGANIZATION Environment/NNP)\n",
        "(ORGANIZATION siteName/NNP)\n",
        "(ORGANIZATION siteToServe/NNP)\n",
        "(ORGANIZATION siteVersion/NNP)\n",
        "(ORGANIZATION assetType/NNP)\n",
        "(ORGANIZATION adKeyword/NNP)\n",
        "(ORGANIZATION templateVersion/NNP)\n",
        "(ORGANIZATION bbcRequireMap/NNP)\n",
        "(ORGANIZATION bbcRequireMap/NNP)\n",
        "(ORGANIZATION bbcRequireMap/NNP)\n",
        "(ORGANIZATION jquery19Path/NN)\n",
        "(ORGANIZATION bbcRequireMap/NNP)"
       ]
      },
      {
       "output_type": "stream",
       "stream": "stdout",
       "text": [
        "\n",
        "(ORGANIZATION bbcRequireMap/NNP)\n",
        "(ORGANIZATION CDATA/NNP)\n",
        "(ORGANIZATION CDATA/NNP)"
       ]
      },
      {
       "output_type": "stream",
       "stream": "stdout",
       "text": [
        "\n",
        "(ORGANIZATION CDATA/NNP)"
       ]
      },
      {
       "output_type": "stream",
       "stream": "stdout",
       "text": [
        "\n",
        "(ORGANIZATION CDATA/NNP)"
       ]
      },
      {
       "output_type": "stream",
       "stream": "stdout",
       "text": [
        "\n",
        "(ORGANIZATION CDATA/NNP)\n",
        "(ORGANIZATION CDATA/NNP)"
       ]
      },
      {
       "output_type": "stream",
       "stream": "stdout",
       "text": [
        "\n",
        "(ORGANIZATION decodeURIComponent/NNP)\n",
        "(ORGANIZATION CDATA/NNP)"
       ]
      },
      {
       "output_type": "stream",
       "stream": "stdout",
       "text": [
        "\n",
        "(ORGANIZATION DFP/NNP)"
       ]
      },
      {
       "output_type": "stream",
       "stream": "stdout",
       "text": [
        "\n",
        "(ORGANIZATION encodeURIComponent/NNP)\n",
        "(ORGANIZATION CDATA/NNP)"
       ]
      },
      {
       "output_type": "stream",
       "stream": "stdout",
       "text": [
        "\n",
        "(ORGANIZATION CDATA/NNP)"
       ]
      },
      {
       "output_type": "stream",
       "stream": "stdout",
       "text": [
        "\n",
        "(ORGANIZATION UK/NNP)\n",
        "(ORGANIZATION adKeyword/NNP)\n",
        "(ORGANIZATION adKeyword/NNP)\n",
        "(ORGANIZATION adKeyword/NNP)\n",
        "(ORGANIZATION adKeyword/NNP)\n",
        "(ORGANIZATION International/NNP)\n",
        "(ORGANIZATION UK/NNP)\n",
        "(ORGANIZATION CDATA/NNP)"
       ]
      },
      {
       "output_type": "stream",
       "stream": "stdout",
       "text": [
        "\n",
        "(ORGANIZATION gnlAnalyticsEnabled/NNP)\n",
        "(ORGANIZATION CDATA/NNP)"
       ]
      },
      {
       "output_type": "stream",
       "stream": "stdout",
       "text": [
        "\n",
        "(ORGANIZATION BetaSite/NNP)\n",
        "(ORGANIZATION setMobileCookie/NNP)\n",
        "(ORGANIZATION Date/NNP)\n",
        "(ORGANIZATION isClientCapable/NNP)\n",
        "(ORGANIZATION isClientCapable/NNP)\n",
        "(ORGANIZATION BetaSite/NNP)\n",
        "(ORGANIZATION adImageUrl/NNP)\n",
        "(ORGANIZATION adImageUrl/NNP)\n",
        "(ORGANIZATION printAdvert/NNP)\n",
        "(ORGANIZATION bbcRequireMap/NNP)\n",
        "(ORGANIZATION bbcRequireMap/NNP)\n",
        "(ORGANIZATION bbcRequireMap/NNP)\n",
        "(GPE waitSeconds/NNP)\n",
        "(ORGANIZATION jQuery/NNP)\n",
        "(ORGANIZATION livestatsBug/NNP)\n",
        "(ORGANIZATION livestatsBug/NNP)\n",
        "(ORGANIZATION BBC/NNP)\n",
        "(ORGANIZATION BBC/NNP)"
       ]
      },
      {
       "output_type": "stream",
       "stream": "stdout",
       "text": [
        "\n",
        "(PERSON Continue/NNP)"
       ]
      },
      {
       "output_type": "stream",
       "stream": "stdout",
       "text": [
        "\n",
        "(ORGANIZATION Find/NNP)\n",
        "(PERSON Skip/NNP)\n",
        "(PERSON Skip/NNP)\n",
        "(GPE Search/NNP)\n",
        "(ORGANIZATION CDATA/NNP)"
       ]
      },
      {
       "output_type": "stream",
       "stream": "stdout",
       "text": [
        "\n",
        "(ORGANIZATION CDATA/NNP)\n",
        "(ORGANIZATION CDATA/NNP)"
       ]
      },
      {
       "output_type": "stream",
       "stream": "stdout",
       "text": [
        "\n",
        "(ORGANIZATION News/NNS)\n",
        "(GPE Fossil/NNP)\n",
        "(ORGANIZATION IPCC/NNP)\n",
        "(ORGANIZATION sectionId/NNP)\n",
        "(ORGANIZATION BBC/NNP)\n",
        "(ORGANIZATION IPCC/NNP)\n",
        "(PERSON Climate/NNP)\n",
        "(ORGANIZATION UN/NNP)\n",
        "(ORGANIZATION IPCC/NNP)"
       ]
      },
      {
       "output_type": "stream",
       "stream": "stdout",
       "text": [
        "\n",
        "(GPE Fossil/NNP)"
       ]
      },
      {
       "output_type": "stream",
       "stream": "stdout",
       "text": [
        "\n",
        "(ORGANIZATION CCS/NNP)\n",
        "(ORGANIZATION Synthesis/NNP)\n",
        "(GPE Copenhagen/NNP)\n",
        "(GSP Continue/NNP)"
       ]
      },
      {
       "output_type": "stream",
       "stream": "stdout",
       "text": [
        "\n",
        "(ORGANIZATION UCL/NNP)"
       ]
      },
      {
       "output_type": "stream",
       "stream": "stdout",
       "text": [
        "\n",
        "(GPE Dutch/JJ)\n",
        "(GPE Copenhagen/NNP)\n",
        "(GPE Rapid/NNP)"
       ]
      },
      {
       "output_type": "stream",
       "stream": "stdout",
       "text": [
        "\n",
        "(ORGANIZATION CCS/NNP)"
       ]
      },
      {
       "output_type": "stream",
       "stream": "stdout",
       "text": [
        "\n",
        "(ORGANIZATION IPCC/NNP)"
       ]
      },
      {
       "output_type": "stream",
       "stream": "stdout",
       "text": [
        "\n",
        "(ORGANIZATION Synthesis/NNP)"
       ]
      },
      {
       "output_type": "stream",
       "stream": "stdout",
       "text": [
        "\n",
        "(ORGANIZATION IPCC/NNP)"
       ]
      },
      {
       "output_type": "stream",
       "stream": "stdout",
       "text": [
        "\n",
        "(ORGANIZATION CO2/NNP)"
       ]
      },
      {
       "output_type": "stream",
       "stream": "stdout",
       "text": [
        "\n",
        "(ORGANIZATION IPCC/NNP)\n",
        "(ORGANIZATION IPCC/NNP)"
       ]
      },
      {
       "output_type": "stream",
       "stream": "stdout",
       "text": [
        "\n",
        "(ORGANIZATION WWF/NNP)"
       ]
      },
      {
       "output_type": "stream",
       "stream": "stdout",
       "text": [
        "\n",
        "(GPE Saudi/NNP)"
       ]
      },
      {
       "output_type": "stream",
       "stream": "stdout",
       "text": [
        "\n",
        "(ORGANIZATION Saudis/NNP)"
       ]
      },
      {
       "output_type": "stream",
       "stream": "stdout",
       "text": [
        "\n",
        "(GPE Bolivia/NNP)"
       ]
      },
      {
       "output_type": "stream",
       "stream": "stdout",
       "text": [
        "\n",
        "(PERSON History/NNP)"
       ]
      },
      {
       "output_type": "stream",
       "stream": "stdout",
       "text": [
        "\n",
        "(PERSON Twitter/NNP)"
       ]
      },
      {
       "output_type": "stream",
       "stream": "stdout",
       "text": [
        "\n",
        "(ORGANIZATION SCIENCE/NNP)"
       ]
      },
      {
       "output_type": "stream",
       "stream": "stdout",
       "text": [
        "\n",
        "(ORGANIZATION SCIENCE/NNP)\n",
        "(ORGANIZATION ENVIRONMENT/NNP)\n",
        "(ORGANIZATION SCIENCE/NNP)\n",
        "(ORGANIZATION ENVIRONMENT/NNP)\n",
        "(PERSON Climate/NNP)\n",
        "(ORGANIZATION SCIENCE/NNP)\n",
        "(ORGANIZATION ENVIRONMENT/NNP)\n",
        "(ORGANIZATION CDATA/NNP)"
       ]
      },
      {
       "output_type": "stream",
       "stream": "stdout",
       "text": [
        "\n",
        "(ORGANIZATION CDATA/NNP)"
       ]
      },
      {
       "output_type": "stream",
       "stream": "stdout",
       "text": [
        "\n",
        "(ORGANIZATION CDATA/NNP)"
       ]
      },
      {
       "output_type": "stream",
       "stream": "stdout",
       "text": [
        "\n",
        "(ORGANIZATION News/NNS)\n",
        "(GPE Fossil/NNP)\n",
        "(ORGANIZATION IPCC/NNP)\n",
        "(ORGANIZATION sectionId/NNP)\n",
        "(GSP US/NNP)\n",
        "(GPE Sound/NNP)"
       ]
      },
      {
       "output_type": "stream",
       "stream": "stdout",
       "text": [
        "\n",
        "(PERSON Wannabe/NNP)\n",
        "(PERSON Virgin/NNP)\n",
        "(GPE Ukraine/NNP)\n",
        "(ORGANIZATION Mass/NNP)\n",
        "(GPE Burkina/NNP)\n",
        "(GPE Argentina/NNP)\n",
        "(GPE Spain/NNP)\n",
        "(PERSON Love/NNP)\n",
        "(GPE Iranian/JJ)\n",
        "(GPE New/NNP)\n",
        "(ORGANIZATION Ebola/NNP)\n",
        "(PERSON Shared/NNP)"
       ]
      },
      {
       "output_type": "stream",
       "stream": "stdout",
       "text": [
        "\n",
        "(GPE Canada/NNP)"
       ]
      },
      {
       "output_type": "stream",
       "stream": "stdout",
       "text": [
        "\n",
        "(ORGANIZATION Ebola/NNP)\n",
        "(PERSON Tube/NNP)\n",
        "(PERSON Alcohol/NNP)\n",
        "(PERSON Woman/NNP)\n",
        "(GPE Halloween/NNP)\n",
        "(GPE London/NNP)\n",
        "(ORGANIZATION Islamic/JJ)"
       ]
      },
      {
       "output_type": "stream",
       "stream": "stdout",
       "text": [
        "\n",
        "(GPE Iraqi/NNP)\n",
        "(PERSON Mojave/NNP)\n",
        "(GPE Scots/NNPS)\n",
        "(GPE View/NNP)\n",
        "(PERSON Ebola/NNP)\n",
        "(PERSON Watch/NNP)"
       ]
      },
      {
       "output_type": "stream",
       "stream": "stdout",
       "text": [
        "\n",
        "(PERSON Watch/NNP)\n",
        "(PERSON Watch/NNP)\n",
        "(PERSON Discovery/NNP)\n",
        "(PERSON Watch/NNP)\n",
        "(PERSON Baby/NNP)\n",
        "(PERSON Watch/NNP)\n",
        "(PERSON Virgin/NNP)\n",
        "(PERSON Watch/NNP)\n",
        "(PERSON Watch/NNP)\n",
        "(PERSON Virgin/NNP)\n",
        "(PERSON Watch/NNP)\n",
        "(GSP Syria/NNP)\n",
        "(ORGANIZATION YouTube/NNP)\n",
        "(PERSON Earth/NNP)\n",
        "(ORGANIZATION CDATA/NNP)"
       ]
      },
      {
       "output_type": "stream",
       "stream": "stdout",
       "text": [
        "\n",
        "(GPE News/NNP)\n",
        "(ORGANIZATION BBC/NNP)\n",
        "(GPE Find/NNP)"
       ]
      },
      {
       "output_type": "stream",
       "stream": "stdout",
       "text": [
        "\n",
        "(ORGANIZATION BBC/NNP)\n",
        "(PERSON Mobile/NNP)\n",
        "(ORGANIZATION BBC/NNP)\n",
        "(ORGANIZATION BBC/NNP)\n",
        "(ORGANIZATION CSS/NNP)\n",
        "(GPE Please/NN)"
       ]
      },
      {
       "output_type": "stream",
       "stream": "stdout",
       "text": [
        "\n",
        "(ORGANIZATION CSS/NNP)\n",
        "(ORGANIZATION CDATA/NNP)"
       ]
      },
      {
       "output_type": "stream",
       "stream": "stdout",
       "text": [
        "\n",
        "(ORGANIZATION CDATA/NNP)"
       ]
      },
      {
       "output_type": "stream",
       "stream": "stdout",
       "text": [
        "\n",
        "(ORGANIZATION CDATA/NNP)"
       ]
      },
      {
       "output_type": "stream",
       "stream": "stdout",
       "text": [
        "\n",
        "(ORGANIZATION CDATA/NNP)"
       ]
      },
      {
       "output_type": "stream",
       "stream": "stdout",
       "text": [
        "\n",
        "(GPE DM_tag/NNP)\n",
        "(ORGANIZATION CDATA/NNP)"
       ]
      },
      {
       "output_type": "stream",
       "stream": "stdout",
       "text": [
        "\n",
        "(ORGANIZATION CDATA/NNP)"
       ]
      },
      {
       "output_type": "stream",
       "stream": "stdout",
       "text": [
        "\n",
        "(ORGANIZATION CDATA/NNP)"
       ]
      },
      {
       "output_type": "stream",
       "stream": "stdout",
       "text": [
        "\n",
        "(ORGANIZATION CDATA/NNP)"
       ]
      },
      {
       "output_type": "stream",
       "stream": "stdout",
       "text": [
        "\n",
        "(ORGANIZATION CDATA/NNP)"
       ]
      },
      {
       "output_type": "stream",
       "stream": "stdout",
       "text": [
        "\n",
        "(ORGANIZATION CDATA/NNP)"
       ]
      },
      {
       "output_type": "stream",
       "stream": "stdout",
       "text": [
        "\n",
        "(ORGANIZATION Date/NNP)\n",
        "(ORGANIZATION CDATA/NNP)"
       ]
      },
      {
       "output_type": "stream",
       "stream": "stdout",
       "text": [
        "\n",
        "(ORGANIZATION CDATA/NNP)"
       ]
      },
      {
       "output_type": "stream",
       "stream": "stdout",
       "text": [
        "\n",
        "(ORGANIZATION CDATA/NNP)"
       ]
      },
      {
       "output_type": "stream",
       "stream": "stdout",
       "text": [
        "\n",
        "(ORGANIZATION CDATA/NNP)"
       ]
      },
      {
       "output_type": "stream",
       "stream": "stdout",
       "text": [
        "\n",
        "(ORGANIZATION CDATA/NNP)"
       ]
      },
      {
       "output_type": "stream",
       "stream": "stdout",
       "text": [
        "\n",
        "(ORGANIZATION Date/NNP)"
       ]
      },
      {
       "output_type": "stream",
       "stream": "stdout",
       "text": [
        "\n",
        "(ORGANIZATION CDATA/NNP)"
       ]
      },
      {
       "output_type": "stream",
       "stream": "stdout",
       "text": [
        "\n",
        "(ORGANIZATION CDATA/NNP)"
       ]
      },
      {
       "output_type": "stream",
       "stream": "stdout",
       "text": [
        "\n",
        "(ORGANIZATION BBC/NNP)\n",
        "(ORGANIZATION CDATA/NNP)"
       ]
      },
      {
       "output_type": "stream",
       "stream": "stdout",
       "text": [
        "\n",
        "(ORGANIZATION CDATA/NNP)"
       ]
      },
      {
       "output_type": "stream",
       "stream": "stdout",
       "text": [
        "\n",
        "(ORGANIZATION BBC/NNP)\n",
        "(ORGANIZATION CBBC/NNP)\n",
        "(ORGANIZATION CONFIGURATION/NNP)\n",
        "(ORGANIZATION BBC/NNP)\n",
        "(ORGANIZATION storyTitle/NNP)\n",
        "(ORGANIZATION RegExp/NNP)\n",
        "(ORGANIZATION storyTitle/NNP)\n",
        "(ORGANIZATION storyTitle/NNP)\n",
        "(ORGANIZATION CONFIGURATION/NNP)\n",
        "(ORGANIZATION loadChartbeat/NNP)\n",
        "(ORGANIZATION Date/NNP)\n",
        "(GPE loadChartbeat/NNP)"
       ]
      },
      {
       "output_type": "stream",
       "stream": "stdout",
       "text": [
        "\n",
        "(ORGANIZATION CDATA/NNP)"
       ]
      },
      {
       "output_type": "stream",
       "stream": "stdout",
       "text": [
        "\n",
        "(ORGANIZATION WPRemoteLogin/NNP)\n",
        "(ORGANIZATION CDATA/NNP)"
       ]
      },
      {
       "output_type": "stream",
       "stream": "stdout",
       "text": [
        "\n",
        "(ORGANIZATION addLoadEvent/NNP)\n",
        "(ORGANIZATION CDATA/NNP)"
       ]
      },
      {
       "output_type": "stream",
       "stream": "stdout",
       "text": [
        "\n",
        "(ORGANIZATION RegExp/NNP)"
       ]
      },
      {
       "output_type": "stream",
       "stream": "stdout",
       "text": [
        "\n",
        "(ORGANIZATION adFactory/NN)\n",
        "(ORGANIZATION adConfig/NNP)\n",
        "(ORGANIZATION CDATA/NNP)"
       ]
      },
      {
       "output_type": "stream",
       "stream": "stdout",
       "text": [
        "\n",
        "(ORGANIZATION oSection/NN)\n",
        "(ORGANIZATION oSubsection/NNP)\n",
        "(ORGANIZATION oPagename/NNP)\n",
        "(ORGANIZATION oContext/NNP)\n",
        "(PERSON Vignette/NNP)\n",
        "(ORGANIZATION CDATA/NNP)\n",
        "(ORGANIZATION cmAd/NNP)\n",
        "(ORGANIZATION CDATA/NNP)"
       ]
      },
      {
       "output_type": "stream",
       "stream": "stdout",
       "text": [
        "\n",
        "(ORGANIZATION cmAd/NNP)\n",
        "(ORGANIZATION Community/NNP)\n",
        "(GPE Adrian/JJ)"
       ]
      },
      {
       "output_type": "stream",
       "stream": "stdout",
       "text": [
        "\n",
        "(PERSON Danny/NNP)"
       ]
      },
      {
       "output_type": "stream",
       "stream": "stdout",
       "text": [
        "\n",
        "(GPE Clara/NNP)\n",
        "(PERSON Danny/NNP)\n",
        "(GPE Clara/NNP)\n",
        "(PERSON Danny/NNP)"
       ]
      },
      {
       "output_type": "stream",
       "stream": "stdout",
       "text": [
        "\n",
        "(PERSON Danny/NNP)"
       ]
      },
      {
       "output_type": "stream",
       "stream": "stdout",
       "text": [
        "\n",
        "(GPE Quite/NNP)\n",
        "(GPE Clara/NNP)"
       ]
      },
      {
       "output_type": "stream",
       "stream": "stdout",
       "text": [
        "\n",
        "(ORGANIZATION Doctor/NNP)\n",
        "(ORGANIZATION TARDIS/NNP)"
       ]
      },
      {
       "output_type": "stream",
       "stream": "stdout",
       "text": [
        "\n",
        "(GPE Doctor/NNP)"
       ]
      },
      {
       "output_type": "stream",
       "stream": "stdout",
       "text": [
        "\n",
        "(ORGANIZATION Doctor/NNP)"
       ]
      },
      {
       "output_type": "stream",
       "stream": "stdout",
       "text": [
        "\n",
        "(ORGANIZATION TARDIS/NNP)\n",
        "(GPE Clara/NNP)\n",
        "(ORGANIZATION TARDIS/NNP)\n",
        "(ORGANIZATION TARDIS/NNP)\n",
        "(PERSON Danny/NNP)\n",
        "(ORGANIZATION TARDIS/NNP)"
       ]
      },
      {
       "output_type": "stream",
       "stream": "stdout",
       "text": [
        "\n",
        "(ORGANIZATION Doctor/NNP)\n",
        "(GPE Drums/NNP)\n",
        "(ORGANIZATION Doctor/NNP)"
       ]
      },
      {
       "output_type": "stream",
       "stream": "stdout",
       "text": [
        "\n",
        "(PERSON Clara/NNP)"
       ]
      },
      {
       "output_type": "stream",
       "stream": "stdout",
       "text": [
        "\n",
        "(GPE Doctor/NNP)\n",
        "(PERSON Clara/NNP)\n",
        "(ORGANIZATION TARDIS/NNP)\n",
        "(PERSON Clara/NNP)\n",
        "(PERSON Doctor/NNP)"
       ]
      },
      {
       "output_type": "stream",
       "stream": "stdout",
       "text": [
        "\n",
        "(PERSON Clara/NNP)\n",
        "(PERSON Clara/NNP)\n",
        "(PERSON Danny/NNP)"
       ]
      },
      {
       "output_type": "stream",
       "stream": "stdout",
       "text": [
        "\n",
        "(GPE Clara/NNP)"
       ]
      },
      {
       "output_type": "stream",
       "stream": "stdout",
       "text": [
        "\n",
        "(ORGANIZATION TARDIS/NNP)\n",
        "(ORGANIZATION Doctor/NNP)\n",
        "(ORGANIZATION Zap2it/NNP)"
       ]
      },
      {
       "output_type": "stream",
       "stream": "stdout",
       "text": [
        "\n",
        "(ORGANIZATION JavaScript/NNP)\n",
        "(PERSON Disqus/NNP)\n",
        "(ORGANIZATION CDATA/NNP)"
       ]
      },
      {
       "output_type": "stream",
       "stream": "stdout",
       "text": [
        "\n",
        "(PERSON Vignette/NNP)\n",
        "(ORGANIZATION NBC/NNP)\n",
        "(PERSON Tank/NNP)\n",
        "(PERSON Anarchy/NNP)\n",
        "(ORGANIZATION Reality/NNP)\n",
        "(GPE Netflix/NNP)"
       ]
      },
      {
       "output_type": "stream",
       "stream": "stdout",
       "text": [
        "\n",
        "(PERSON Thrones/NNP)\n",
        "(ORGANIZATION CDATA/NNP)"
       ]
      },
      {
       "output_type": "stream",
       "stream": "stdout",
       "text": [
        "\n",
        "(ORGANIZATION URL/NNP)\n",
        "(ORGANIZATION OB/NNP)\n",
        "(GPE jQuery/NNP)\n",
        "(GPE RegExp/NNP)\n",
        "(GPE RegExp/NNP)\n",
        "(GPE RegExp/NNP)"
       ]
      },
      {
       "output_type": "stream",
       "stream": "stdout",
       "text": [
        "\n",
        "(ORGANIZATION Update/NNP)\n",
        "(GPE jQuery/NNP)\n",
        "(ORGANIZATION jQuery/NNP)\n",
        "(ORGANIZATION dataSrc/NNP)\n",
        "(ORGANIZATION cmAd/NNP)\n",
        "(PERSON Vignette/NNP)\n",
        "(PERSON Anarchy/NNP)"
       ]
      },
      {
       "output_type": "stream",
       "stream": "stdout",
       "text": [
        "\n",
        "(PERSON Ciara/NNP)\n",
        "(ORGANIZATION CDATA/NNP)"
       ]
      },
      {
       "output_type": "stream",
       "stream": "stdout",
       "text": [
        "\n",
        "(PERSON Vignette/NNP)\n",
        "(ORGANIZATION CDATA/NNP)"
       ]
      },
      {
       "output_type": "stream",
       "stream": "stdout",
       "text": [
        "\n",
        "(PERSON Vignette/NNP)\n",
        "(PERSON Issue/NNP)\n",
        "(PERSON Available/NNP)"
       ]
      },
      {
       "output_type": "stream",
       "stream": "stdout",
       "text": [
        "\n",
        "(PERSON Issue/NNP)\n",
        "(PERSON Parks/NNP)\n",
        "(ORGANIZATION Recreation/NNP)\n",
        "(ORGANIZATION Housewives/NNP)\n",
        "(GPE Choose/NNP)"
       ]
      },
      {
       "output_type": "stream",
       "stream": "stdout",
       "text": [
        "\n",
        "(ORGANIZATION showCenteredPopup/NNP)\n",
        "(ORGANIZATION showCenteredPopup/NNP)"
       ]
      },
      {
       "output_type": "stream",
       "stream": "stdout",
       "text": [
        "\n",
        "(ORGANIZATION showCenteredPopup/NNP)"
       ]
      },
      {
       "output_type": "stream",
       "stream": "stdout",
       "text": [
        "\n",
        "(ORGANIZATION showCenteredPopup/NNP)\n",
        "(PERSON Advertise/NNP)"
       ]
      },
      {
       "output_type": "stream",
       "stream": "stdout",
       "text": [
        "\n",
        "(ORGANIZATION Books/NNP)\n",
        "(PERSON Rec/NNP)\n",
        "(PERSON Tinseltown/NNP)\n",
        "(ORGANIZATION Others/NNP)\n",
        "(PERSON Vignette/NNP)\n",
        "(PERSON Fox/NNP)"
       ]
      },
      {
       "output_type": "stream",
       "stream": "stdout",
       "text": [
        "\n",
        "(PERSON Vignette/NNP)\n",
        "(GPE Sia/NNP)\n",
        "(GPE Jewels/NNP)\n",
        "(PERSON Empire/NNP)\n",
        "(GPE New/NNP)\n",
        "(ORGANIZATION PlectrumElectrum/NNP)"
       ]
      },
      {
       "output_type": "stream",
       "stream": "stdout",
       "text": [
        "\n",
        "(PERSON Vignette/NNP)\n",
        "(GPE Prince/NNP)\n",
        "(ORGANIZATION Bachelor/NNP)"
       ]
      },
      {
       "output_type": "stream",
       "stream": "stdout",
       "text": [
        "\n",
        "(ORGANIZATION Met/NNP)\n",
        "(ORGANIZATION CDATA/NNP)\n",
        "(ORGANIZATION CDATA/NNP)"
       ]
      },
      {
       "output_type": "stream",
       "stream": "stdout",
       "text": [
        "\n",
        "(ORGANIZATION CDATA/NNP)"
       ]
      },
      {
       "output_type": "stream",
       "stream": "stdout",
       "text": [
        "\n",
        "(ORGANIZATION CDATA/NNP)"
       ]
      },
      {
       "output_type": "stream",
       "stream": "stdout",
       "text": [
        "\n",
        "(ORGANIZATION CDATA/NNP)"
       ]
      },
      {
       "output_type": "stream",
       "stream": "stdout",
       "text": [
        "\n",
        "(ORGANIZATION CDATA/NNP)"
       ]
      },
      {
       "output_type": "stream",
       "stream": "stdout",
       "text": [
        "\n",
        "(ORGANIZATION CDATA/NNP)"
       ]
      },
      {
       "output_type": "stream",
       "stream": "stdout",
       "text": [
        "\n",
        "(ORGANIZATION Date/NNP)"
       ]
      },
      {
       "output_type": "stream",
       "stream": "stdout",
       "text": [
        "\n",
        "(ORGANIZATION CDATA/NNP)"
       ]
      },
      {
       "output_type": "stream",
       "stream": "stdout",
       "text": [
        "\n",
        "(ORGANIZATION WPGroHo/NNP)\n",
        "(ORGANIZATION jQuery/NNP)\n",
        "(ORGANIZATION CDATA/NNP)"
       ]
      },
      {
       "output_type": "stream",
       "stream": "stdout",
       "text": [
        "\n",
        "(ORGANIZATION wpcomVipAnalytics/NNP)\n",
        "(ORGANIZATION CDATA/NNP)"
       ]
      },
      {
       "output_type": "stream",
       "stream": "stdout",
       "text": [
        "\n",
        "(ORGANIZATION addLoadEvent/NNP)\n",
        "(ORGANIZATION NewsOn6.com/JJ)\n",
        "(GPE Tulsa/NNP)\n",
        "(ORGANIZATION OK/NNP)\n",
        "(GPE News/NNP)\n",
        "(PERSON Weather/NNP)\n",
        "(PERSON Video/NNP)\n",
        "(GPE Sports/NNP)\n",
        "(ORGANIZATION META/NNP)\n",
        "(ORGANIZATION META/NNP)\n",
        "(ORGANIZATION wng_pageInfo/NNP)"
       ]
      },
      {
       "output_type": "stream",
       "stream": "stdout",
       "text": [
        "\n",
        "(ORGANIZATION affiliateId/NNP)\n",
        "(ORGANIZATION baseUrl/NNP)\n",
        "(ORGANIZATION includesDomain/NNP)\n",
        "(ORGANIZATION includesVersion/NNP)\n",
        "(GPE mdPartnerDomain/NNP)\n",
        "(ORGANIZATION registrationId/NNP)\n",
        "(ORGANIZATION registrationURL/NNP)\n",
        "(GPE imageDomain/NNP)\n",
        "(ORGANIZATION NewsOn6.com/JJ)\n",
        "(GPE Tulsa/NNP)\n",
        "(ORGANIZATION OK/NNP)\n",
        "(GPE News/NNP)\n",
        "(PERSON Weather/NNP)\n",
        "(PERSON Video/NNP)\n",
        "(GPE Sports/NNP)\n",
        "(GPE Tulsa/NNP)\n",
        "(ORGANIZATION OK/NNP)\n",
        "(GPE News/NNP)\n",
        "(PERSON Weather/NNP)\n",
        "(PERSON Video/NNP)\n",
        "(GPE Sports/NNP)\n",
        "(ORGANIZATION wng_pageInfo/NNP)\n",
        "(ORGANIZATION SITE/NNP)\n",
        "(ORGANIZATION SITE/NNP)\n",
        "(ORGANIZATION SITE/NNP)\n",
        "(ORGANIZATION SITE/NNP)"
       ]
      },
      {
       "output_type": "stream",
       "stream": "stdout",
       "text": [
        "\n",
        "(ORGANIZATION SITE/NNP)\n",
        "(ORGANIZATION SITE/NNP)"
       ]
      },
      {
       "output_type": "stream",
       "stream": "stdout",
       "text": [
        "\n",
        "(ORGANIZATION SITE/NNP)\n",
        "(ORGANIZATION SITE/NNP)"
       ]
      },
      {
       "output_type": "stream",
       "stream": "stdout",
       "text": [
        "\n",
        "(ORGANIZATION SITE/NNP)"
       ]
      },
      {
       "output_type": "stream",
       "stream": "stdout",
       "text": [
        "\n",
        "(ORGANIZATION SITE/NNP)"
       ]
      },
      {
       "output_type": "stream",
       "stream": "stdout",
       "text": [
        "\n",
        "(ORGANIZATION SITE/NNP)"
       ]
      },
      {
       "output_type": "stream",
       "stream": "stdout",
       "text": [
        "\n",
        "(ORGANIZATION SITE/NNP)\n",
        "(ORGANIZATION SITE/NNP)"
       ]
      },
      {
       "output_type": "stream",
       "stream": "stdout",
       "text": [
        "\n",
        "(ORGANIZATION SITE/NNP)"
       ]
      },
      {
       "output_type": "stream",
       "stream": "stdout",
       "text": [
        "\n",
        "(ORGANIZATION WNAd41/NNP)"
       ]
      },
      {
       "output_type": "stream",
       "stream": "stdout",
       "text": [
        "\n",
        "(ORGANIZATION SITE/NNP)\n",
        "(ORGANIZATION WNAd43/NNP)"
       ]
      },
      {
       "output_type": "stream",
       "stream": "stdout",
       "text": [
        "\n",
        "(ORGANIZATION WNAd44/NNP)\n",
        "(ORGANIZATION SITE/NNP)\n",
        "(ORGANIZATION WNAd46/NNP)"
       ]
      },
      {
       "output_type": "stream",
       "stream": "stdout",
       "text": [
        "\n",
        "(ORGANIZATION WNAd47/NNP)\n",
        "(ORGANIZATION SITE/NNP)\n",
        "(ORGANIZATION SITE/NNP)\n",
        "(ORGANIZATION WNAd52/NNP)"
       ]
      },
      {
       "output_type": "stream",
       "stream": "stdout",
       "text": [
        "\n",
        "(ORGANIZATION SITE/NNP)\n",
        "(ORGANIZATION SITE/NNP)"
       ]
      },
      {
       "output_type": "stream",
       "stream": "stdout",
       "text": [
        "\n",
        "(ORGANIZATION SITE/NNP)\n",
        "(ORGANIZATION SITE/NNP)"
       ]
      },
      {
       "output_type": "stream",
       "stream": "stdout",
       "text": [
        "\n",
        "(ORGANIZATION NewsOn6.com/JJ)"
       ]
      },
      {
       "output_type": "stream",
       "stream": "stdout",
       "text": [
        "\n",
        "(GPE Tulsa/NNP)\n",
        "(ORGANIZATION OK/NNP)\n",
        "(GPE News/NNP)\n",
        "(PERSON Weather/NNP)\n",
        "(PERSON Video/NNP)\n",
        "(GPE Sports/NNP)\n",
        "(ORGANIZATION VideoBytes/NNP)\n",
        "(ORGANIZATION timeoutDuration/NNP)\n",
        "(ORGANIZATION levelBorderWidths/NNP)\n",
        "(ORGANIZATION cornerGraphics/NNP)\n",
        "(ORGANIZATION SITE/NNP)\n",
        "(ORGANIZATION wnDS29/NNP)\n",
        "(ORGANIZATION Associated/NNP)\n",
        "(GPE Hawaii/NNP)"
       ]
      },
      {
       "output_type": "stream",
       "stream": "stdout",
       "text": [
        "\n",
        "(GPE Arizona/NNP)\n",
        "(GPE U.S./NNP)\n",
        "(GPE Public/JJ)"
       ]
      },
      {
       "output_type": "stream",
       "stream": "stdout",
       "text": [
        "\n",
        "(GPE Oklahoma/NNP)"
       ]
      },
      {
       "output_type": "stream",
       "stream": "stdout",
       "text": [
        "\n",
        "(GPE Oklahoma/NNP)"
       ]
      },
      {
       "output_type": "stream",
       "stream": "stdout",
       "text": [
        "\n",
        "(GPE Share/NN)"
       ]
      },
      {
       "output_type": "stream",
       "stream": "stdout",
       "text": [
        "\n",
        "(ORGANIZATION iPhone/NN)"
       ]
      },
      {
       "output_type": "stream",
       "stream": "stdout",
       "text": [
        "\n",
        "(PERSON Mobile/NNP)"
       ]
      },
      {
       "output_type": "stream",
       "stream": "stdout",
       "text": [
        "\n",
        "(GPE Check/NNP)\n",
        "(ORGANIZATION wnDS31/NNP)"
       ]
      },
      {
       "output_type": "stream",
       "stream": "stdout",
       "text": [
        "\n",
        "(ORGANIZATION EBEBEB/NNP)\n",
        "(ORGANIZATION GNM/NNP)\n",
        "(ORGANIZATION TIMEOUT_PERIOD/NNP)\n",
        "(ORGANIZATION useBackup/NNP)\n",
        "(ORGANIZATION loadTimer/NNP)\n",
        "(ORGANIZATION loadCheck/NNP)\n",
        "(ORGANIZATION useBackup/NNP)\n",
        "(ORGANIZATION radarImg/NNP)\n",
        "(ORGANIZATION radarUrl/NNP)\n",
        "(ORGANIZATION loadTimer/NNP)\n",
        "(ORGANIZATION setTimeout/NNP)\n",
        "(ORGANIZATION loadCheck/NNP)\n",
        "(ORGANIZATION TIMEOUT_PERIOD/NNP)\n",
        "(ORGANIZATION wnDS76/NNP)\n",
        "(PERSON Oklahoma/NNP)\n",
        "(PERSON Cold/NNP)"
       ]
      },
      {
       "output_type": "stream",
       "stream": "stdout",
       "text": [
        "\n",
        "(PERSON Fallen/NNP)\n",
        "(PERSON Oklahoma/NNP)\n",
        "(PERSON Murrah/NNP)"
       ]
      },
      {
       "output_type": "stream",
       "stream": "stdout",
       "text": [
        "\n",
        "(PERSON Storm/NN)\n",
        "(GPE Oklahoma/NNP)\n",
        "(GPE Turnpike/NNP)"
       ]
      },
      {
       "output_type": "stream",
       "stream": "stdout",
       "text": [
        "\n",
        "(GPE Oklahoma/NNP)\n",
        "(ORGANIZATION wnDS64/NNP)"
       ]
      },
      {
       "output_type": "stream",
       "stream": "stdout",
       "text": [
        "\n",
        "(GPE New/NNP)\n",
        "(ORGANIZATION Date/NNP)\n",
        "(ORGANIZATION dayClickable/NNP)\n",
        "(ORGANIZATION dayCurrent/NNP)\n",
        "(ORGANIZATION dayNone/NNP)\n",
        "(PERSON Search/NNP)\n",
        "(ORGANIZATION Date/NNP)\n",
        "(ORGANIZATION minDate/NNP)\n",
        "(ORGANIZATION Date/NNP)\n",
        "(ORGANIZATION monthLengths/NNP)\n",
        "(ORGANIZATION renderTemplate/NNP)\n",
        "(ORGANIZATION retVal/NNP)\n",
        "(ORGANIZATION retVal/NNP)\n",
        "(ORGANIZATION regEx/NNP)\n",
        "(ORGANIZATION RegExp/NNP)\n",
        "(ORGANIZATION retVal/NNP)\n",
        "(ORGANIZATION regEx/NNP)\n",
        "(ORGANIZATION retVal/NNP)\n",
        "(ORGANIZATION retVal/NNP)\n",
        "(ORGANIZATION makeCalendar/NNP)\n",
        "(ORGANIZATION Date/NNP)\n",
        "(ORGANIZATION colCount/NNP)\n",
        "(ORGANIZATION monthLength/NNP)\n",
        "(ORGANIZATION monthLength/NNP)"
       ]
      },
      {
       "output_type": "stream",
       "stream": "stdout",
       "text": [
        "\n",
        "(ORGANIZATION minDate/NNP)\n",
        "(ORGANIZATION renderTemplate/NNP)\n",
        "(ORGANIZATION colCount/NNP)\n",
        "(ORGANIZATION renderTemplate/NNP)\n",
        "(ORGANIZATION renderTemplate/NNP)\n",
        "(PERSON Render/NNP)\n",
        "(ORGANIZATION DOM/NNP)\n",
        "(ORGANIZATION renderTemplate/NNP)\n",
        "(ORGANIZATION renderTemplate/NNP)\n",
        "(ORGANIZATION minDate/NNP)\n",
        "(ORGANIZATION dateClick/NNP)\n",
        "(ORGANIZATION controlClick/NNP)\n",
        "(ORGANIZATION dateClick/NNP)\n",
        "(ORGANIZATION dataType/NNP)\n",
        "(ORGANIZATION controlClick/NNP)\n",
        "(ORGANIZATION parseInt/NNP)\n",
        "(GPE makeCalendar/NNP)\n",
        "(ORGANIZATION Date/NNP)\n",
        "(GPE makeCalendar/NNP)\n",
        "(ORGANIZATION WNCol4/NNP)\n",
        "(ORGANIZATION wnDS66/NNP)\n",
        "(PERSON Boston/NNP)\n",
        "(GPE Georgia/NNP)\n",
        "(ORGANIZATION TULSA/NNP)\n",
        "(ORGANIZATION OWN/NNP)\n",
        "(GPE Georgia/NNP)\n",
        "(ORGANIZATION GREEN/NNP)\n",
        "(ORGANIZATION COUNTRY/NNP)\n",
        "(ORGANIZATION OWN/NNP)\n",
        "(PERSON Oklahoma/NNP)\n",
        "(PERSON Own/NNP)\n",
        "(GPE Oklahomans/NNPS)\n",
        "(PERSON Tulsa/NNP)\n",
        "(ORGANIZATION FCC/NNP)"
       ]
      },
      {
       "output_type": "stream",
       "stream": "stdout",
       "text": [
        "\n",
        "(ORGANIZATION NEWS/NNP)\n",
        "(ORGANIZATION Business/NN)\n",
        "(PERSON Politics/NNP)\n",
        "(ORGANIZATION WARN/NNP)\n",
        "(PERSON Weather/NNP)\n",
        "(ORGANIZATION DIGITAL/NNP)\n",
        "(ORGANIZATION NETWORK/NNP)\n",
        "(ORGANIZATION WorldNow/NNP)\n",
        "(ORGANIZATION KOTV/NNP)\n",
        "(PERSON Terms/NNP)"
       ]
      },
      {
       "output_type": "stream",
       "stream": "stdout",
       "text": [
        "\n",
        "(GPE Service/NNP)\n",
        "(ORGANIZATION gaJsHost/NNP)"
       ]
      },
      {
       "output_type": "stream",
       "stream": "stdout",
       "text": [
        "\n",
        "(ORGANIZATION gaJsHost/NNP)"
       ]
      },
      {
       "output_type": "stream",
       "stream": "stdout",
       "text": [
        "\n",
        "(GPE Detroit/NNP)\n",
        "(ORGANIZATION pubMatic/JJ)\n",
        "(ORGANIZATION ATF/NNP)\n",
        "(ORGANIZATION BTF/NNP)\n",
        "(ORGANIZATION ATF/NNP)\n",
        "(ORGANIZATION BTF/NNP)\n",
        "(ORGANIZATION ATF/NNP)\n",
        "(ORGANIZATION TRANSITION_SNAPSHOT/NNP)\n",
        "(ORGANIZATION TRANSITION_REFERRER/NNP)\n",
        "(ORGANIZATION GALLERY/NNP)\n",
        "(PERSON Sochi/NNP)"
       ]
      },
      {
       "output_type": "stream",
       "stream": "stdout",
       "text": [
        "\n",
        "(ORGANIZATION Olympics/NNP)\n",
        "(ORGANIZATION Comcast/NNP)\n",
        "(ORGANIZATION LOCAL_ENDPOINT/NNP)\n",
        "(PERSON Detroit/NNP)\n",
        "(ORGANIZATION MI/NNP)\n",
        "(ORGANIZATION DISABLEAUTOPLAY/NNP)\n",
        "(ORGANIZATION callToActivate/NNP)\n",
        "(ORGANIZATION API_KEY/NNP)"
       ]
      },
      {
       "output_type": "stream",
       "stream": "stdout",
       "text": [
        "\n",
        "(ORGANIZATION GOOGLE/NNP)\n",
        "(ORGANIZATION API_KEY/NNP)\n",
        "(ORGANIZATION API_SECRET/NNP)\n",
        "(ORGANIZATION API_KEY/NNP)\n",
        "(ORGANIZATION ACCESS_TOKEN_SECRET/NNP)\n",
        "(ORGANIZATION GOOGLEPLUS/NNP)\n",
        "(ORGANIZATION TURNON/NNP)\n",
        "(ORGANIZATION JSLIBURL/NNP)\n",
        "(ORGANIZATION LOGOUT_URL/NNP)\n",
        "(ORGANIZATION AP/NNP)\n",
        "(ORGANIZATION Associated/NNP)\n",
        "(ORGANIZATION USA/NNP)\n",
        "(ORGANIZATION FOURSQUARE/NN)\n",
        "(ORGANIZATION CLIENT_SECRET/NN)\n",
        "(ORGANIZATION CLIENT_ID/NNP)\n",
        "(ORGANIZATION apiKey/NNP)\n",
        "(PERSON Detroit/NNP)\n",
        "(ORGANIZATION MI/NNP)\n",
        "(GPE G/NNP)"
       ]
      },
      {
       "output_type": "stream",
       "stream": "stdout",
       "text": [
        "\n",
        "(GPE D/NNP)"
       ]
      },
      {
       "output_type": "stream",
       "stream": "stdout",
       "text": [
        "\n",
        "(ORGANIZATION TypeError/NNP)\n",
        "(GPE d.concat/JJ)\n",
        "(PERSON Object/NNP)\n",
        "(GPE d.concat/JJ)\n",
        "(ORGANIZATION DocumentTouch/NNP)\n",
        "(GPE m.join/JJ)\n",
        "(GPE Boolean/NNP)"
       ]
      },
      {
       "output_type": "stream",
       "stream": "stdout",
       "text": [
        "\n",
        "(GPE t.push/JJ)\n",
        "(GPE B/NNP)"
       ]
      },
      {
       "output_type": "stream",
       "stream": "stdout",
       "text": [
        "\n",
        "(ORGANIZATION layoutType/NN)"
       ]
      },
      {
       "output_type": "stream",
       "stream": "stdout",
       "text": [
        "\n",
        "(ORGANIZATION layoutType/NN)\n",
        "(ORGANIZATION layoutType/NN)\n",
        "(ORGANIZATION layoutType/NN)\n",
        "(ORGANIZATION layoutType/NN)\n",
        "(ORGANIZATION layoutType/NN)\n",
        "(ORGANIZATION layoutType/NN)\n",
        "(ORGANIZATION layoutType/NN)\n",
        "(ORGANIZATION layoutType/NN)\n",
        "(ORGANIZATION layoutType/NN)\n",
        "(ORGANIZATION layoutType/NN)\n",
        "(ORGANIZATION layoutType/NN)\n",
        "(ORGANIZATION FAQ/NNP)\n",
        "(ORGANIZATION UtilityBarFlyoutFacebookBtn/NNP)"
       ]
      },
      {
       "output_type": "stream",
       "stream": "stdout",
       "text": [
        "\n",
        "(PERSON Email/NNP)\n",
        "(ORGANIZATION UtilityBarFlyoutTwitterLink/NNP)\n",
        "(ORGANIZATION Democratic/JJ)\n",
        "(ORGANIZATION buttonPin/NNP)\n",
        "(GPE Detroit/NNP)\n",
        "(ORGANIZATION Democratic/JJ)\n",
        "(GPE Detroit/NNP)\n",
        "(PERSON Facebook/NNP)\n",
        "(GPE Detroit/NNP)\n",
        "(ORGANIZATION Democratic/JJ)\n",
        "(GPE Check/NNP)\n",
        "(GPE Incorrect/NNP)\n",
        "(GPE Posted/NNP)\n",
        "(ORGANIZATION Conversation/NNP)"
       ]
      },
      {
       "output_type": "stream",
       "stream": "stdout",
       "text": [
        "\n",
        "(PERSON Facebook/NNP)\n",
        "(ORGANIZATION FAQs/NNP)\n",
        "(GPE Detroit/NNP)\n",
        "(GPE Detroit/NNP)\n",
        "(GPE Detroit/NNP)\n",
        "(ORGANIZATION Democratic/JJ)\n",
        "(ORGANIZATION Democratic/JJ)\n",
        "(ORGANIZATION Wayne/NNP)\n",
        "(GPE Detroit/NNP)\n",
        "(PERSON Mid/NNP)"
       ]
      },
      {
       "output_type": "stream",
       "stream": "stdout",
       "text": [
        "\n",
        "(ORGANIZATION Term/NNP)\n",
        "(PERSON Michigan/NNP)\n",
        "(PERSON Photo/NNP)\n",
        "(ORGANIZATION Democratic/JJ)\n",
        "(ORGANIZATION Democratic/JJ)\n",
        "(GPE U.S./NNP)\n",
        "(ORGANIZATION Wayne/NNP)\n",
        "(GPE Detroit/NNP)\n",
        "(PERSON Photo/NNP)\n",
        "(ORGANIZATION Democratic/JJ)\n",
        "(ORGANIZATION Democratic/JJ)\n",
        "(GPE U.S./NNP)\n",
        "(ORGANIZATION Wayne/NNP)\n",
        "(GPE Detroit/NNP)\n",
        "(PERSON Photo/NNP)\n",
        "(ORGANIZATION Democratic/JJ)\n",
        "(ORGANIZATION Democratic/JJ)\n",
        "(ORGANIZATION Wayne/NNP)\n",
        "(GPE Detroit/NNP)\n",
        "(PERSON Photo/NNP)\n",
        "(ORGANIZATION Democratic/JJ)\n",
        "(ORGANIZATION Democratic/JJ)\n",
        "(ORGANIZATION Wayne/NNP)\n",
        "(GPE Detroit/NNP)\n",
        "(PERSON Photo/NNP)\n",
        "(ORGANIZATION Democratic/JJ)\n",
        "(ORGANIZATION Democratic/JJ)\n",
        "(ORGANIZATION Wayne/NNP)\n",
        "(GPE Detroit/NNP)\n",
        "(PERSON Photo/NNP)\n",
        "(ORGANIZATION Democratic/JJ)\n",
        "(ORGANIZATION Democratic/JJ)\n",
        "(ORGANIZATION Wayne/NNP)\n",
        "(GPE Detroit/NNP)\n",
        "(PERSON Photo/NNP)\n",
        "(ORGANIZATION Democratic/JJ)\n",
        "(ORGANIZATION Democratic/JJ)\n",
        "(ORGANIZATION Wayne/NNP)\n",
        "(GPE Detroit/NNP)\n",
        "(PERSON Photo/NNP)\n",
        "(ORGANIZATION Democratic/JJ)\n",
        "(ORGANIZATION Democratic/JJ)\n",
        "(ORGANIZATION Wayne/NNP)\n",
        "(GPE Detroit/NNP)\n",
        "(PERSON Photo/NNP)\n",
        "(ORGANIZATION Democratic/NNP)\n",
        "(ORGANIZATION Democratic/NNP)\n",
        "(ORGANIZATION Democratic/JJ)\n",
        "(GPE Detroit/NNP)\n",
        "(PERSON Photo/NNP)\n",
        "(ORGANIZATION Democratic/JJ)\n",
        "(ORGANIZATION Wayne/NNP)\n",
        "(PERSON Photo/NNP)\n",
        "(ORGANIZATION Democratic/JJ)\n",
        "(ORGANIZATION Democratic/JJ)"
       ]
      },
      {
       "output_type": "stream",
       "stream": "stdout",
       "text": [
        "\n",
        "(ORGANIZATION Wayne/NNP)\n",
        "(PERSON Photo/NNP)\n",
        "(ORGANIZATION Democratic/JJ)\n",
        "(ORGANIZATION Wayne/NNP)\n",
        "(GPE Detroit/NNP)\n",
        "(PERSON Photo/NNP)\n",
        "(ORGANIZATION Democratic/JJ)\n",
        "(ORGANIZATION Wayne/NNP)\n",
        "(GPE Detroit/NNP)\n",
        "(PERSON Photo/NNP)\n",
        "(ORGANIZATION Wayne/NNP)\n",
        "(PERSON Photo/NNP)\n",
        "(ORGANIZATION Wayne/NNP)\n",
        "(PERSON Photo/NNP)\n",
        "(ORGANIZATION Wayne/NNP)\n",
        "(PERSON Photo/NNP)\n",
        "(ORGANIZATION Wayne/NNP)\n",
        "(PERSON Photo/NNP)\n",
        "(PERSON Michigan/NNP)\n",
        "(ORGANIZATION Wayne/NNP)\n",
        "(GPE Detroit/NNP)\n",
        "(PERSON Photo/NNP)\n",
        "(ORGANIZATION Democratic/NNP)\n",
        "(ORGANIZATION Democratic/NNP)\n",
        "(ORGANIZATION Democratic/JJ)\n",
        "(ORGANIZATION Wayne/NNP)\n",
        "(GPE Detroit/NNP)\n",
        "(PERSON Photo/NNP)\n",
        "(ORGANIZATION Democratic/JJ)\n",
        "(ORGANIZATION Democratic/JJ)"
       ]
      },
      {
       "output_type": "stream",
       "stream": "stdout",
       "text": [
        "\n",
        "(ORGANIZATION Wayne/NNP)\n",
        "(PERSON Photo/NNP)\n",
        "(ORGANIZATION Democratic/JJ)\n",
        "(ORGANIZATION Democratic/JJ)\n",
        "(ORGANIZATION Wayne/NNP)\n",
        "(PERSON Photo/NNP)\n",
        "(ORGANIZATION Democratic/JJ)\n",
        "(PERSON Photo/NNP)\n",
        "(ORGANIZATION Democratic/JJ)\n",
        "(PERSON Photo/NNP)\n",
        "(ORGANIZATION Democratic/JJ)\n",
        "(PERSON Photo/NNP)\n",
        "(ORGANIZATION Democratic/JJ)\n",
        "(PERSON Photo/NNP)\n",
        "(ORGANIZATION Wayne/NNP)\n",
        "(PERSON Photo/NNP)\n",
        "(ORGANIZATION Wayne/NNP)\n",
        "(PERSON Photo/NNP)\n",
        "(GPE U.S./NNP)\n",
        "(GPE U.S./NNP)\n",
        "(ORGANIZATION Democratic/JJ)\n",
        "(ORGANIZATION Wayne/NNP)\n",
        "(PERSON Photo/NNP)\n",
        "(ORGANIZATION Democratic/JJ)\n",
        "(ORGANIZATION Wayne/NNP)\n",
        "(PERSON Photo/NNP)\n",
        "(ORGANIZATION Democratic/JJ)\n",
        "(ORGANIZATION Wayne/NNP)\n",
        "(GPE Detroit/NNP)\n",
        "(PERSON Photo/NNP)\n",
        "(ORGANIZATION Democratic/JJ)"
       ]
      },
      {
       "output_type": "stream",
       "stream": "stdout",
       "text": [
        "\n",
        "(ORGANIZATION Democratic/JJ)\n",
        "(ORGANIZATION Wayne/NNP)\n",
        "(GPE Detroit/NNP)\n",
        "(PERSON Photo/NNP)"
       ]
      },
      {
       "output_type": "stream",
       "stream": "stdout",
       "text": [
        "\n",
        "(PERSON Michigan/NNP)\n",
        "(ORGANIZATION Peters/NNPS)\n",
        "(ORGANIZATION Wayne/NNP)\n",
        "(ORGANIZATION University/NNP)\n",
        "(ORGANIZATION CONNECT/NNP)\n",
        "(ORGANIZATION TWEET/NNP)\n",
        "(ORGANIZATION LINKEDIN/NNP)\n",
        "(ORGANIZATION COMMENT/NNP)\n",
        "(ORGANIZATION InlineShareEmailBtn/NNP)\n",
        "(GPE Michigan/NNP)\n",
        "(ORGANIZATION Democratic/JJ)\n",
        "(ORGANIZATION Wayne/NNP)"
       ]
      },
      {
       "output_type": "stream",
       "stream": "stdout",
       "text": [
        "\n",
        "(PERSON Obama/NNP)\n",
        "(ORGANIZATION Democratic/JJ)\n",
        "(PERSON Obama/NNP)"
       ]
      },
      {
       "output_type": "stream",
       "stream": "stdout",
       "text": [
        "\n",
        "(GPE Michigan/NNP)\n",
        "(PERSON Obama/NNP)"
       ]
      },
      {
       "output_type": "stream",
       "stream": "stdout",
       "text": [
        "\n",
        "(ORGANIZATION Wayne/NNP)\n",
        "(ORGANIZATION Democratic/JJ)\n",
        "(GPE U.S./NNP)\n",
        "(ORGANIZATION Senate/NNP)\n",
        "(PERSON Light/NNP)"
       ]
      },
      {
       "output_type": "stream",
       "stream": "stdout",
       "text": [
        "\n",
        "(GPE U.S./NNP)\n",
        "(GPE Schauer/NNP)"
       ]
      },
      {
       "output_type": "stream",
       "stream": "stdout",
       "text": [
        "\n",
        "(ORGANIZATION Republican/NNP)\n",
        "(GPE Obama/NNP)"
       ]
      },
      {
       "output_type": "stream",
       "stream": "stdout",
       "text": [
        "\n",
        "(GPE Michigan/NNP)\n",
        "(GPE Peters/NNP)\n",
        "(ORGANIZATION Democratic/JJ)\n",
        "(GPE U.S./NNP)\n",
        "(ORGANIZATION Senate/NNP)\n",
        "(PERSON Obama/NNP)"
       ]
      },
      {
       "output_type": "stream",
       "stream": "stdout",
       "text": [
        "\n",
        "(GPE Detroit/NNP)"
       ]
      },
      {
       "output_type": "stream",
       "stream": "stdout",
       "text": [
        "\n",
        "(PERSON Obama/NNP)\n",
        "(ORGANIZATION Democratic/JJ)\n",
        "(PERSON Peters/NNP)\n",
        "(PERSON Schauer/NNP)\n",
        "(PERSON Obama/NNP)"
       ]
      },
      {
       "output_type": "stream",
       "stream": "stdout",
       "text": [
        "\n",
        "(GPE American/NNP)"
       ]
      },
      {
       "output_type": "stream",
       "stream": "stdout",
       "text": [
        "\n",
        "(GPE Michigan/NNP)"
       ]
      },
      {
       "output_type": "stream",
       "stream": "stdout",
       "text": [
        "\n",
        "(GPE Michigan/NNP)"
       ]
      },
      {
       "output_type": "stream",
       "stream": "stdout",
       "text": [
        "\n",
        "(PERSON Peters/NNP)\n",
        "(PERSON Schauer/NNP)\n",
        "(PERSON Obama/NNP)"
       ]
      },
      {
       "output_type": "stream",
       "stream": "stdout",
       "text": [
        "\n",
        "(ORGANIZATION Prosperity/NNP)"
       ]
      },
      {
       "output_type": "stream",
       "stream": "stdout",
       "text": [
        "\n",
        "(GPE Obama/NNP)\n",
        "(PERSON Obama/NNP)"
       ]
      },
      {
       "output_type": "stream",
       "stream": "stdout",
       "text": [
        "\n",
        "(GPE Michigan/NNP)\n",
        "(PERSON Detroit/NNP)\n",
        "(ORGANIZATION Democratic/JJ)\n",
        "(PERSON Michigan/NNP)"
       ]
      },
      {
       "output_type": "stream",
       "stream": "stdout",
       "text": [
        "\n",
        "(GPE Obama/NNP)"
       ]
      },
      {
       "output_type": "stream",
       "stream": "stdout",
       "text": [
        "\n",
        "(ORGANIZATION Democratic/JJ)\n",
        "(PERSON Levin/NNP)\n",
        "(GPE U.S./NNP)\n",
        "(GPE U.S./NNP)\n",
        "(GPE Dearborn/NNP)\n",
        "(PERSON Detroit/NNP)\n",
        "(PERSON Stabenow/NNP)"
       ]
      },
      {
       "output_type": "stream",
       "stream": "stdout",
       "text": [
        "\n",
        "(ORGANIZATION Peters/NNP)"
       ]
      },
      {
       "output_type": "stream",
       "stream": "stdout",
       "text": [
        "\n",
        "(ORGANIZATION Senate/NNP)\n",
        "(GPE Land/NNP)\n",
        "(PERSON Peters/NNP)\n",
        "(GPE Michigan/NNP)"
       ]
      },
      {
       "output_type": "stream",
       "stream": "stdout",
       "text": [
        "\n",
        "(GPE U.S./NNP)\n",
        "(PERSON Peters/NNP)\n",
        "(ORGANIZATION Democratic/JJ)\n",
        "(GPE Schauer/NNP)\n",
        "(ORGANIZATION Snyder/NNP)\n",
        "(PERSON Detroit/NNP)"
       ]
      },
      {
       "output_type": "stream",
       "stream": "stdout",
       "text": [
        "\n",
        "(PERSON Obama/NNP)\n",
        "(ORGANIZATION Republican/JJ)"
       ]
      },
      {
       "output_type": "stream",
       "stream": "stdout",
       "text": [
        "\n",
        "(PERSON Contact/NN)"
       ]
      },
      {
       "output_type": "stream",
       "stream": "stdout",
       "text": [
        "\n",
        "(ORGANIZATION TODD/NNP)\n",
        "(PERSON Light/NNP)"
       ]
      },
      {
       "output_type": "stream",
       "stream": "stdout",
       "text": [
        "\n",
        "(ORGANIZATION CONNECT/NNP)\n",
        "(ORGANIZATION TWEET/NNP)\n",
        "(ORGANIZATION LINKEDIN/NNP)\n",
        "(ORGANIZATION COMMENT/NNP)\n",
        "(ORGANIZATION InlineShareEmailBtn/NNP)\n",
        "(GPE Share/NNP)\n",
        "(GPE Detroit/NNP)\n",
        "(PERSON Detroit/NNP)"
       ]
      },
      {
       "output_type": "stream",
       "stream": "stdout",
       "text": [
        "\n",
        "(PERSON Halloween/NNP)\n",
        "(GPE Denver/NNP)\n",
        "(PERSON Obama/NNP)\n",
        "(PERSON Schauer/NNP)\n",
        "(GPE Peters/NNP)\n",
        "(ORGANIZATION layoutType/NN)\n",
        "(ORGANIZATION layoutType/NN)\n",
        "(ORGANIZATION layoutType/NN)\n",
        "(ORGANIZATION layoutType/NN)\n",
        "(ORGANIZATION layoutType/NN)\n",
        "(ORGANIZATION layoutType/NN)\n",
        "(ORGANIZATION layoutType/NN)\n",
        "(ORGANIZATION layoutType/NN)\n",
        "(ORGANIZATION layoutType/NN)\n",
        "(ORGANIZATION layoutType/NN)\n",
        "(ORGANIZATION layoutType/NN)\n",
        "(ORGANIZATION layoutType/NN)\n",
        "(ORGANIZATION layoutType/NN)\n",
        "(ORGANIZATION layoutType/NN)\n",
        "(ORGANIZATION layoutType/NN)\n",
        "(ORGANIZATION layoutType/NN)\n",
        "(ORGANIZATION layoutType/NN)\n",
        "(PERSON Obama/NNP)\n",
        "(GPE Detroit/NNP)\n",
        "(ORGANIZATION Democratic/JJ)\n",
        "(PERSON Obama/NNP)\n",
        "(GPE Detroit/NNP)\n",
        "(GPE Health/NNP)\n",
        "(GPE U.S/NNP)\n",
        "(ORGANIZATION Senate/NNP)"
       ]
      },
      {
       "output_type": "stream",
       "stream": "stdout",
       "text": [
        "\n",
        "(PERSON Crash/NNP)\n",
        "(ORGANIZATION I2I25leR/NNP)\n",
        "(ORGANIZATION SECONDARY_COLOR/NNP)\n",
        "(ORGANIZATION TERTIARY_COLOR/NNP)\n",
        "(ORGANIZATION QUINARY_COLOR/NNP)\n",
        "(ORGANIZATION SENARY_COLOR/NNP)\n",
        "(ORGANIZATION articlesLogo/NNP)\n",
        "(ORGANIZATION SECONDARY_COLOR/NNP)\n",
        "(ORGANIZATION TERTIARY_COLOR/NNP)\n",
        "(ORGANIZATION QUINARY_COLOR/NNP)\n",
        "(ORGANIZATION SENARY_COLOR/NNP)\n",
        "(ORGANIZATION SECONDARY_COLOR/NNP)\n",
        "(ORGANIZATION TERTIARY_COLOR/NNP)\n",
        "(ORGANIZATION QUINARY_COLOR/NNP)\n",
        "(ORGANIZATION SENARY_COLOR/NNP)\n",
        "(ORGANIZATION mobileNavLogo/NNP)\n",
        "(ORGANIZATION FFFFFF/NNP)\n",
        "(ORGANIZATION SECONDARY_COLOR/NNP)\n",
        "(ORGANIZATION TERTIARY_COLOR/NNP)\n",
        "(ORGANIZATION QUINARY_COLOR/NNP)\n",
        "(ORGANIZATION SENARY_COLOR/NNP)\n",
        "(ORGANIZATION abbrvLogo/NNP)\n",
        "(ORGANIZATION FFFFFF/NNP)\n",
        "(ORGANIZATION SECONDARY_COLOR/NNP)\n",
        "(ORGANIZATION TERTIARY_COLOR/NNP)\n",
        "(ORGANIZATION QUINARY_COLOR/NNP)\n",
        "(ORGANIZATION SENARY_COLOR/NNP)\n",
        "(ORGANIZATION loadingLogo/NNP)\n",
        "(ORGANIZATION FF6E45/NNP)\n",
        "(ORGANIZATION SECONDARY_COLOR/NNP)\n",
        "(ORGANIZATION TERTIARY_COLOR/NNP)\n",
        "(ORGANIZATION QUINARY_COLOR/NNP)\n",
        "(ORGANIZATION SENARY_COLOR/NNP)\n",
        "(ORGANIZATION loadingCircle/NNP)\n",
        "(ORGANIZATION FF6E45/NNP)\n",
        "(ORGANIZATION SECONDARY_COLOR/NNP)\n",
        "(ORGANIZATION FFFFFF/NNP)\n",
        "(ORGANIZATION TERTIARY_COLOR/NNP)\n",
        "(ORGANIZATION QUINARY_COLOR/NNP)\n",
        "(ORGANIZATION SENARY_COLOR/NNP)\n",
        "(ORGANIZATION trb_visualBrowseContainer/NNP)\n",
        "(ORGANIZATION visualbrowse_mainContainer/NNP)\n",
        "(ORGANIZATION CALIFORNIA/NNP)\n",
        "(ORGANIZATION trb_masthead_adBanner/NNP)\n",
        "(ORGANIZATION SpaceShipTwo/NNP)\n",
        "(ORGANIZATION SpaceShipTwo/NNP)\n",
        "(PERSON Virgin/NNP)"
       ]
      },
      {
       "output_type": "stream",
       "stream": "stdout",
       "text": [
        "\n",
        "(ORGANIZATION Galactic/NNP)\n",
        "(ORGANIZATION SpaceShipTwo/NNP)\n",
        "(ORGANIZATION SpaceShipTwo/NNP)"
       ]
      },
      {
       "output_type": "stream",
       "stream": "stdout",
       "text": [
        "\n",
        "(GPE Mojave/NNP)\n",
        "(GPE Kern/NNP)"
       ]
      },
      {
       "output_type": "stream",
       "stream": "stdout",
       "text": [
        "\n",
        "(GPE Mojave/NNP)\n",
        "(ORGANIZATION SpaceShipTwo/NNP)"
       ]
      },
      {
       "output_type": "stream",
       "stream": "stdout",
       "text": [
        "\n",
        "(GPE Mojave/NNP)\n",
        "(PERSON James/NNP)"
       ]
      },
      {
       "output_type": "stream",
       "stream": "stdout",
       "text": [
        "\n",
        "(ORGANIZATION Stokes/NNP)\n",
        "(GPE Mojave/NNP)\n",
        "(ORGANIZATION SpaceShipTwo/NNP)"
       ]
      },
      {
       "output_type": "stream",
       "stream": "stdout",
       "text": [
        "\n",
        "(ORGANIZATION Associated/NNP)\n",
        "(ORGANIZATION Associated/NNP)"
       ]
      },
      {
       "output_type": "stream",
       "stream": "stdout",
       "text": [
        "\n",
        "(PERSON Branson/NNP)\n",
        "(PERSON Virgin/NNP)"
       ]
      },
      {
       "output_type": "stream",
       "stream": "stdout",
       "text": [
        "\n",
        "(ORGANIZATION Galactic/NNP)\n",
        "(PERSON Branson/NNP)\n",
        "(GPE Hennigan/NNP)"
       ]
      },
      {
       "output_type": "stream",
       "stream": "stdout",
       "text": [
        "\n",
        "(ORGANIZATION SpaceShipTwo/NNP)\n",
        "(GPE Denny/NNP)"
       ]
      },
      {
       "output_type": "stream",
       "stream": "stdout",
       "text": [
        "\n",
        "(PERSON Bitter/NNP)"
       ]
      },
      {
       "output_type": "stream",
       "stream": "stdout",
       "text": [
        "\n",
        "(GPE Related/JJ)"
       ]
      },
      {
       "output_type": "stream",
       "stream": "stdout",
       "text": [
        "\n",
        "(PERSON Branson/NNP)"
       ]
      },
      {
       "output_type": "stream",
       "stream": "stdout",
       "text": [
        "\n",
        "(PERSON Branson/NNP)"
       ]
      },
      {
       "output_type": "stream",
       "stream": "stdout",
       "text": [
        "\n",
        "(GPE Virginia/NNP)"
       ]
      },
      {
       "output_type": "stream",
       "stream": "stdout",
       "text": [
        "\n",
        "(PERSON Branson/NNP)"
       ]
      },
      {
       "output_type": "stream",
       "stream": "stdout",
       "text": [
        "\n",
        "(ORGANIZATION SpaceShipTwo/NNP)\n",
        "(PERSON Alsbury/NNP)\n",
        "(GPE Related/NNP)"
       ]
      },
      {
       "output_type": "stream",
       "stream": "stdout",
       "text": [
        "\n",
        "(GPE Mojave/NNP)\n",
        "(GPE Mojave/NNP)"
       ]
      },
      {
       "output_type": "stream",
       "stream": "stdout",
       "text": [
        "\n",
        "(PERSON Stuart/NNP)"
       ]
      },
      {
       "output_type": "stream",
       "stream": "stdout",
       "text": [
        "\n",
        "(GPE Witt/NNP)\n",
        "(GPE Alsbury/NNP)\n",
        "(PERSON Witt/NNP)\n",
        "(GPE Witt/NNP)"
       ]
      },
      {
       "output_type": "stream",
       "stream": "stdout",
       "text": [
        "\n",
        "(GPE Earth/NNP)"
       ]
      },
      {
       "output_type": "stream",
       "stream": "stdout",
       "text": [
        "\n",
        "(GPE Sparks/NNP)"
       ]
      },
      {
       "output_type": "stream",
       "stream": "stdout",
       "text": [
        "\n",
        "(GPE U.S./NNP)\n",
        "(ORGANIZATION NASA/NNP)\n",
        "(ORGANIZATION Sierra/NNP)"
       ]
      },
      {
       "output_type": "stream",
       "stream": "stdout",
       "text": [
        "\n",
        "(ORGANIZATION SpaceShip/NNP)"
       ]
      },
      {
       "output_type": "stream",
       "stream": "stdout",
       "text": [
        "\n",
        "(PERSON Executives/NNS)"
       ]
      },
      {
       "output_type": "stream",
       "stream": "stdout",
       "text": [
        "\n",
        "(PERSON Witt/NNP)\n",
        "(ORGANIZATION WhiteKnightTwo/NNP)\n",
        "(ORGANIZATION SpaceShipTwo/NNP)\n",
        "(PERSON Pictures/NNS)"
       ]
      },
      {
       "output_type": "stream",
       "stream": "stdout",
       "text": [
        "\n",
        "(ORGANIZATION NTSB/NNP)\n",
        "(PERSON Branson/NNP)"
       ]
      },
      {
       "output_type": "stream",
       "stream": "stdout",
       "text": [
        "\n",
        "(PERSON Alsbury/NNP)"
       ]
      },
      {
       "output_type": "stream",
       "stream": "stdout",
       "text": [
        "\n",
        "(ORGANIZATION SpaceShipTwo/NNP)\n",
        "(GPE Mojave/NNP)"
       ]
      },
      {
       "output_type": "stream",
       "stream": "stdout",
       "text": [
        "\n",
        "(PERSON Alsbury/NNP)\n",
        "(GPE Tehachapi/NNP)"
       ]
      },
      {
       "output_type": "stream",
       "stream": "stdout",
       "text": [
        "\n",
        "(PERSON Kinn/NNP)\n",
        "(PERSON Kinn/NNP)"
       ]
      },
      {
       "output_type": "stream",
       "stream": "stdout",
       "text": [
        "\n",
        "(PERSON Alsbury/NNP)\n",
        "(GPE Mojave/NNP)\n",
        "(PERSON Alsbury/NNP)\n",
        "(PERSON Kinn/NNP)\n",
        "(PERSON Kinn/NNP)"
       ]
      },
      {
       "output_type": "stream",
       "stream": "stdout",
       "text": [
        "\n",
        "(PERSON Alsbury/NNP)\n",
        "(ORGANIZATION SpaceShipTwo/NNP)"
       ]
      },
      {
       "output_type": "stream",
       "stream": "stdout",
       "text": [
        "\n",
        "(PERSON Katie/NNP)"
       ]
      },
      {
       "output_type": "stream",
       "stream": "stdout",
       "text": [
        "\n",
        "(PERSON Stokes/NNP)\n",
        "(GPE Mojave/NNP)\n",
        "(PERSON Katie/NNP)\n",
        "(PERSON Stokes/NNP)\n",
        "(PERSON Stokes/NNP)"
       ]
      },
      {
       "output_type": "stream",
       "stream": "stdout",
       "text": [
        "\n",
        "(PERSON Marlena/NNP)"
       ]
      },
      {
       "output_type": "stream",
       "stream": "stdout",
       "text": [
        "\n",
        "(ORGANIZATION Rowley/NNP)\n",
        "(GPE Times/NNP)"
       ]
      },
      {
       "output_type": "stream",
       "stream": "stdout",
       "text": [
        "\n",
        "(ORGANIZATION LATvives/NNP)"
       ]
      },
      {
       "output_type": "stream",
       "stream": "stdout",
       "text": [
        "\n",
        "(ORGANIZATION trb_masthead_adBanner/NNP)\n",
        "(PERSON Board/NNP)\n",
        "(GPE Mojave/NNP)\n",
        "(ORGANIZATION CNN/NNP)\n",
        "(GPE Business/NN)"
       ]
      },
      {
       "output_type": "stream",
       "stream": "stdout",
       "text": [
        "\n",
        "(GPE British/NNP)\n",
        "(PERSON Hacks/NNP)"
       ]
      },
      {
       "output_type": "stream",
       "stream": "stdout",
       "text": [
        "\n",
        "(GPE Californians/NNPS)\n",
        "(GPE Business/NN)"
       ]
      },
      {
       "output_type": "stream",
       "stream": "stdout",
       "text": [
        "\n",
        "(GPE Sanrio/NNP)\n",
        "(GPE Bicycle/NNP)"
       ]
      },
      {
       "output_type": "stream",
       "stream": "stdout",
       "text": [
        "\n",
        "(GPE California/NNP)\n",
        "(GPE California/NNP)\n",
        "(GPE Florida/NNP)\n",
        "(GPE Carmakers/NNP)"
       ]
      },
      {
       "output_type": "stream",
       "stream": "stdout",
       "text": [
        "\n",
        "(GPE Business/NN)"
       ]
      },
      {
       "output_type": "stream",
       "stream": "stdout",
       "text": [
        "\n",
        "(GPE California/NNP)\n",
        "(GPE Business/NN)"
       ]
      },
      {
       "output_type": "stream",
       "stream": "stdout",
       "text": [
        "\n",
        "(GPE Strong/JJ)\n",
        "(GPE Inland/NNP)\n",
        "(GPE California/NNP)\n",
        "(ORGANIZATION trb_transporter_navWrapper/NNP)"
       ]
      },
      {
       "output_type": "stream",
       "stream": "stdout",
       "text": [
        "\n",
        "(PERSON Autos/NNP)\n",
        "(ORGANIZATION trb_nav_topBox/NNP)\n",
        "(ORGANIZATION trb_nav_bottomBox/NNP)\n",
        "(PERSON Local/NNP)\n",
        "(GPE California/NNP)\n",
        "(PERSON Travel/NNP)\n",
        "(PERSON Video/NNP)\n",
        "(ORGANIZATION SITE/NNP)\n",
        "(PERSON Local/NNP)\n",
        "(PERSON Harbor/NNP)\n",
        "(GPE Valley/NNP)"
       ]
      },
      {
       "output_type": "stream",
       "stream": "stdout",
       "text": [
        "\n",
        "(PERSON Valley/NNP)\n",
        "(GPE South/NNP)\n",
        "(GPE South/NNP)\n",
        "(ORGANIZATION Miss/NNP)\n",
        "(ORGANIZATION trb_nav_subLink/NNP)\n",
        "(ORGANIZATION trb_nav_subLink/NNP)\n",
        "(GPE Pasadena/NNP)\n",
        "(GPE California/NNP)\n",
        "(PERSON Maps/NNP)\n",
        "(ORGANIZATION Miss/NNP)\n",
        "(ORGANIZATION trb_nav_subLink/NNP)\n",
        "(ORGANIZATION trb_nav_subLink/NNP)\n",
        "(PERSON Ducks/NNP)\n",
        "(PERSON Stats/NNP)\n",
        "(ORGANIZATION Miss/NNP)\n",
        "(ORGANIZATION trb_nav_subLink/NNP)\n",
        "(GPE California/NNP)\n",
        "(GPE Breeders/NNP)\n",
        "(PERSON Classic/NNP)\n",
        "(ORGANIZATION trb_nav_subLink/NNP)\n",
        "(PERSON Books/NNP)\n",
        "(PERSON Picks/NNP)\n",
        "(PERSON Music/NNP)\n",
        "(ORGANIZATION Envelope/NNP)\n",
        "(PERSON Gossip/NNP)\n",
        "(PERSON Hiss/NNP)\n",
        "(ORGANIZATION Miss/NNP)\n",
        "(ORGANIZATION trb_nav_subLink/NNP)\n",
        "(ORGANIZATION trb_nav_subLink/NNP)\n",
        "(ORGANIZATION Business/NN)\n",
        "(PERSON Autos/NNP)\n",
        "(ORGANIZATION Miss/NNP)\n",
        "(ORGANIZATION trb_nav_subLink/NNP)\n",
        "(GPE U.S./NNP)\n",
        "(ORGANIZATION trb_nav_subLink/NNP)\n",
        "(PERSON Stockton/NNP)\n",
        "(PERSON Opinion/NNP)\n",
        "(ORGANIZATION Miss/NNP)\n",
        "(ORGANIZATION trb_nav_subLink/NNP)\n",
        "(ORGANIZATION trb_nav_subLink/NNP)\n",
        "(PERSON Nation/NNP)"
       ]
      },
      {
       "output_type": "stream",
       "stream": "stdout",
       "text": [
        "\n",
        "(ORGANIZATION Miss/NNP)\n",
        "(ORGANIZATION trb_nav_subLink/NNP)\n",
        "(ORGANIZATION trb_nav_subLink/NNP)\n",
        "(PERSON Ebola/NNP)\n",
        "(PERSON Africa/NNP)\n",
        "(GPE Asia/NNP)\n",
        "(PERSON Europe/NNP)\n",
        "(ORGANIZATION Miss/NNP)\n",
        "(ORGANIZATION trb_nav_subLink/NNP)\n",
        "(GPE U.S./NNP)\n",
        "(ORGANIZATION Islamic/NNP)\n",
        "(ORGANIZATION trb_nav_subLink/NNP)\n",
        "(GPE India/NNP)\n",
        "(PERSON Lifestyle/NNP)\n",
        "(PERSON Books/NNP)\n",
        "(PERSON Garden/NNP)\n",
        "(ORGANIZATION Rage/NNP)\n",
        "(PERSON Travel/NNP)\n",
        "(PERSON Europe/NNP)\n",
        "(PERSON Hawaii/NNP)\n",
        "(PERSON Mexico/NNP)\n",
        "(GPE Asia/NNP)\n",
        "(PERSON Parks/NNP)\n",
        "(ORGANIZATION News/NNP)\n",
        "(ORGANIZATION Miss/NNP)\n",
        "(ORGANIZATION trb_nav_subLink/NNP)\n",
        "(GPE Seattle/NNP)\n",
        "(ORGANIZATION trb_nav_subLink/NNP)\n",
        "(PERSON Autos/NNP)\n",
        "(ORGANIZATION SELL/NNP)\n",
        "(PERSON Garden/NNP)\n",
        "(PERSON Rentals/NNP)\n",
        "(ORGANIZATION SELL/NNP)\n",
        "(PERSON Blogs/NNP)\n",
        "(ORGANIZATION Miss/NNP)\n",
        "(ORGANIZATION trb_nav_subLink/NNP)\n",
        "(GPE U.S./NNP)\n",
        "(ORGANIZATION trb_nav_subLink/NNP)\n",
        "(PERSON Stockton/NNP)\n",
        "(PERSON Photos/NNP)\n",
        "(PERSON Video/NNP)\n",
        "(PERSON Photos/NNP)\n",
        "(ORGANIZATION Miss/NNP)\n",
        "(ORGANIZATION trb_nav_subLink/NNP)\n",
        "(GPE California/NNP)\n",
        "(ORGANIZATION trb_nav_subLink/NNP)\n",
        "(ORGANIZATION Times/NNP)\n",
        "(PERSON Autos/NNP)\n",
        "(PERSON Rentals/NNP)\n",
        "(PERSON Listings/NNP)\n",
        "(LOCATION West/NNP)\n",
        "(GPE Portfolio/NNP)\n",
        "(ORGANIZATION AirTransportationDisasters/NNP)\n",
        "(ORGANIZATION SpaceExploration/NNP)\n",
        "(GPE Space/NNP)\n",
        "(ORGANIZATION RichardBranson/NNP)\n",
        "(ORGANIZATION zoneIdArray/NNP)\n",
        "(PERSON Petersen/NNP)\n",
        "(PERSON Hennigan/NNP)\n",
        "(ORGANIZATION parentSectionName/NNP)"
       ]
      },
      {
       "output_type": "stream",
       "stream": "stdout",
       "text": [
        "\n",
        "(ORGANIZATION pageTitle/NNP)\n",
        "(PERSON Crash/NNP)\n",
        "(ORGANIZATION siteName/NNP)\n",
        "(ORGANIZATION contentType/NNP)\n",
        "(ORGANIZATION pubDate/NNP)\n",
        "(GPE Hennigan/NNP)\n",
        "(GPE Hennigan/NNP)"
       ]
      },
      {
       "output_type": "stream",
       "stream": "stdout",
       "text": [
        "\n",
        "(ORGANIZATION contentId/NNP)\n",
        "(ORGANIZATION marketCode/NNP)\n",
        "(ORGANIZATION siteHierarchy/NNP)"
       ]
      },
      {
       "output_type": "stream",
       "stream": "stdout",
       "text": [
        "\n",
        "(ORGANIZATION globalHierachy/NNP)\n",
        "(ORGANIZATION siteAbbrv/NNP)\n",
        "(ORGANIZATION siteCode/NNP)\n",
        "(ORGANIZATION loggingServicesId/NNP)\n",
        "(ORGANIZATION omnitureAccountId/NNP)\n",
        "(ORGANIZATION googleAnalytics/NNP)\n",
        "(ORGANIZATION meteringServiceInit/NN)\n",
        "(ORGANIZATION meteringServiceCallback/NNP)"
       ]
      },
      {
       "output_type": "stream",
       "stream": "stdout",
       "text": [
        "\n"
       ]
      }
     ],
     "prompt_number": 57
    },
    {
     "cell_type": "code",
     "collapsed": false,
     "input": [
      "import re\n",
      "IN = re.compile(r'.*\\b(?!\\b.+ing)')\n",
      "for doc in nltk.corpus.ieer.parsed_docs('NYT_19980315'):\n",
      "    for rel in nltk.sem.extract_rels('PER', 'ORG', doc, corpus='ieer', pattern = IN):\n",
      "        print(nltk.sem.rtuple(rel))"
     ],
     "language": "python",
     "metadata": {},
     "outputs": [
      {
       "output_type": "stream",
       "stream": "stdout",
       "text": [
        "[PER: u'Bob Edwards'] u'has presided over the' [ORG: u'National Public Radio']\n",
        "[PER: u'Wertheimer'] u'_ and, by implication, the faithful' [ORG: u'NPR']\n",
        "[PER: u'Mike Godwin'] u', chief counsel for the' [ORG: u'Electronic Frontier Foundation']\n",
        "[PER: u'Cohn'] u', a partner in the' [ORG: u'McGlashan &AMP; Sarrail']\n",
        "[PER: u'Lillian R. Berkman'] u'to support its' [ORG: u'Center for Internet and Society']\n",
        "[PER: u'James Boyle'] u'from' [ORG: u'American University']\n",
        "[PER: u'Robert Mergess'] u', the co-director of the' [ORG: u'Berkeley Center for Law and Technology']\n",
        "[PER: u'Jack Balkin'] u\", director of the school's program. ``What happened at\" [ORG: u'Yale']\n",
        "[PER: u'Pam Samuelson'] u', who helped found' [ORG: u'Berkeley']\n",
        "[PER: u'Clinton'] u\"administration's proposal to adapt copyright law to cyberspace, said\" [ORG: u'Berkeley']\n",
        "[PER: u'Samuelson'] u'said that centers like' [ORG: u'Berkeley']\n",
        "[PER: u'Samuelson'] u'said. Although by most accounts' [ORG: u'Harvard']\n",
        "[PER: u'Michael Froomkin'] u'at the' [ORG: u'University of Miami']\n",
        "[PER: u'Dan Burk'] u'at' [ORG: u'Seton Hall University']\n",
        "[PER: u'David Post'] u', co-founder of the' [ORG: u'Cyberspace Law Institute']\n",
        "[PER: u'Frank Easterbrook'] u'of the' [ORG: u'7th U.S. Circuit Court of Appeals']\n",
        "[PER: u'Jones'] u'will introduce' [ORG: u'Qradio']"
       ]
      },
      {
       "output_type": "stream",
       "stream": "stdout",
       "text": [
        "\n",
        "[PER: u'Jones'] u', said the seed that germinated into' [ORG: u'Qradio']\n",
        "[PER: u'Vern Fotheringham'] u', a founding partner of' [ORG: u'Qradio']\n",
        "[PER: u'William Gale'] u', an economist at the' [ORG: u'Brookings Institution']\n",
        "[PER: u'Joel Slemrod'] u', an economist at the' [ORG: u'University of Michigan']\n",
        "[PER: u'Alan Braverman'] u', Internet analyst at' [ORG: u'Credit Suisse First Boston']\n",
        "[PER: u'Bill Gross'] u', president of' [ORG: u'Idealab']\n",
        "[PER: u'Abe Kleinfield'] u', a vice president at' [ORG: u'Open Text']\n",
        "[PER: u'Braverman'] u'said. Success today comes from branding and distribution, and' [ORG: u'Yahoo']\n",
        "[PER: u'Kaufman'] u', president of the privately held' [ORG: u'TV Books LLC']"
       ]
      },
      {
       "output_type": "stream",
       "stream": "stdout",
       "text": [
        "\n",
        "[PER: u'Kaufman'] u'would not disclose financial details of the deal.' [ORG: u'TV Books']\n",
        "[PER: u'Michael Coffey'] u', managing editor of' [ORG: u'Publishers Weekly']\n",
        "[PER: u'Lorne Michaels'] u\", the executive producer of ``Saturday Night Live.''\" [ORG: u'TV Books']\n",
        "[PER: u'James Billington'] u', the librarian of' [ORG: u'Congress']\n",
        "[PER: u'Sherry Lansing'] u', chairwoman of the' [ORG: u'Paramount Motion Picture Group']\n",
        "[PER: u'Lindsay Doran'] u', president of' [ORG: u'United Artists']\n",
        "[PER: u'Baz Luhrmann'] u\"'s\" [ORG: u'MTV']\n",
        "[PER: u'Laura Ziskin'] u', president of' [ORG: u'Fox 2000']\n",
        "[PER: u'Rick Yorn'] u', his manager at the firm' [ORG: u'Addis-Wechsler &AMP; Associates']\n",
        "[PER: u'Tom Rothman'] u', president of production at' [ORG: u'20th Century Fox']\n",
        "[PER: u'Charlotte Forest'] u', executive producer for' [ORG: u'Homestead Editorial']"
       ]
      },
      {
       "output_type": "stream",
       "stream": "stdout",
       "text": [
        "\n",
        "[PER: u'Richard Strauss'] u\"' ``Salome'' at\" [ORG: u'La Scala']\n",
        "[PER: u'Wilson'] u\"'s only previous encounter with the\" [ORG: u'Met']\n",
        "[PER: u'Philip Glass'] u'. This was not part of the' [ORG: u'Met']\n",
        "[PER: u'John Wren'] u', the president and chief executive at' [ORG: u'Omnicom']"
       ]
      },
      {
       "output_type": "stream",
       "stream": "stdout",
       "text": [
        "\n",
        "[PER: u'Steve Davis'] u', who joined' [ORG: u'Wells']\n",
        "[PER: u'Wren'] u'said. That sealed' [ORG: u'Wells']\n",
        "[PER: u'Charlie Moss'] u', the chairman of' [ORG: u'Moss/Dragoti']\n",
        "[PER: u'Ken Kaess'] u', president of the' [ORG: u'DDB Needham']\n",
        "[PER: u'Lawrence'] u'withdrew from active involvement, and financial problems began to impede' [ORG: u'Wells']\n",
        "[PER: u'Linda Kaplan Thaler'] u', who worked at' [ORG: u'Wells']\n",
        "[PER: u'Kaplan Thaler'] u'opened after leaving' [ORG: u'Wells']\n",
        "[PER: u'Kaplan Thaler'] u'had worked for' [ORG: u\"Toys ``R'' Us\"]\n",
        "[PER: u'Kaplan Thaler'] u'had been bound by a noncompetition agreement with' [ORG: u'Wells']\n",
        "[PER: u'Ken Haldin'] u', a spokesman for' [ORG: u'Georgia-Pacific']\n",
        "[PER: u'Davis'] u', who said he would consider his next move after' [ORG: u'Wells']\n"
       ]
      }
     ],
     "prompt_number": 74
    },
    {
     "cell_type": "code",
     "collapsed": false,
     "input": [],
     "language": "python",
     "metadata": {},
     "outputs": []
    }
   ],
   "metadata": {}
  }
 ]
}