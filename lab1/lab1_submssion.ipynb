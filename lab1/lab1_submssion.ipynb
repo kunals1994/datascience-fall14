{
 "metadata": {
  "name": ""
 },
 "nbformat": 3,
 "nbformat_minor": 0,
 "worksheets": [
  {
   "cells": [
    {
     "cell_type": "code",
     "collapsed": false,
     "input": [
      "#Kunal Sharma\n",
      "#Lab1"
     ],
     "language": "python",
     "metadata": {},
     "outputs": [],
     "prompt_number": 323
    },
    {
     "cell_type": "code",
     "collapsed": false,
     "input": [
      "#importing numpy\n",
      "import numpy as np\n",
      "\n",
      "%pylab inline\n",
      "import matplotlib.pyplot as plt\n"
     ],
     "language": "python",
     "metadata": {},
     "outputs": [
      {
       "output_type": "stream",
       "stream": "stdout",
       "text": [
        "Populating the interactive namespace from numpy and matplotlib\n"
       ]
      }
     ],
     "prompt_number": 324
    },
    {
     "cell_type": "markdown",
     "metadata": {},
     "source": [
      "<h2> Exercise 1</h2>"
     ]
    },
    {
     "cell_type": "code",
     "collapsed": false,
     "input": [
      "#loading Boston Dataset\n",
      "from sklearn.datasets import load_boston\n",
      "boston_house_dataset = load_boston()\n",
      "\n",
      "\n",
      "#Printing number of features and samples\n",
      "num_features = len(boston_house_dataset.feature_names)\n",
      "num_samples = len(boston_house_dataset.data)\n",
      "\n",
      "print \"Number of features in Boston House Dataset: \" + str(num_features) + '\\n'\n",
      "print \"Number of samples in Boston House Dataset: \" + str(num_samples) + '\\n'\n",
      "\n",
      "\n",
      "#Printing five features with a description\n",
      "description = boston_house_dataset.DESCR\n",
      "\n",
      "print \"List of five features with a description:\"\n",
      "for i in range(0,5):\n",
      "    curr_feature =  boston_house_dataset.feature_names[i] \n",
      "    descrip_start = description.find(curr_feature) - 2\n",
      "    descrip_end = description.find(\" -\", descrip_start) \n",
      "    print description[descrip_start : descrip_end]\n",
      "    \n",
      "#Displaying a scatterplot of the relationship between crime and price\n",
      "\n",
      "\n",
      "crime_x = []\n",
      "price_y = boston_house_dataset.target\n",
      "for entry in boston_house_dataset.data:\n",
      "    #Crime is at index 0 in each data entry\n",
      "    crime_x.append(entry[0])\n",
      "\n",
      "plt.ylim([0,60])\n",
      "plt.xlim([0,100])\n",
      "plt.xlabel(\"Crime (per capita)\")\n",
      "plt.ylabel(\"Price\")\n",
      "plt.title(\"Price of homes vs. per capita crime rate by town\")\n",
      "plt.scatter(crime_x, price_y)"
     ],
     "language": "python",
     "metadata": {},
     "outputs": [
      {
       "output_type": "stream",
       "stream": "stdout",
       "text": [
        "Number of features in Boston House Dataset: 13\n",
        "\n",
        "Number of samples in Boston House Dataset: 506\n",
        "\n",
        "List of five features with a description:\n",
        "- CRIM     per capita crime rate by town\n",
        "       \n",
        "- ZN       proportion of residential land zoned for lots over 25,000 sq.ft.\n",
        "       \n",
        "- INDUS    proportion of non-retail business acres per town\n",
        "       \n",
        "- CHAS     Charles River dummy variable (= 1 if tract bounds river; 0 otherwise)\n",
        "       \n",
        "- NOX      nitric oxides concentration (parts per 10 million)\n",
        "       \n"
       ]
      },
      {
       "metadata": {},
       "output_type": "pyout",
       "prompt_number": 325,
       "text": [
        "<matplotlib.collections.PathCollection at 0xaf1c1eec>"
       ]
      },
      {
       "metadata": {},
       "output_type": "display_data",
       "png": "[encoded data removed]",
       "text": [
        "<matplotlib.figure.Figure at 0xaf3fb50c>"
       ]
      }
     ],
     "prompt_number": 325
    },
    {
     "cell_type": "markdown",
     "metadata": {},
     "source": [
      "<h2> Exercise 2 </h2>"
     ]
    },
    {
     "cell_type": "code",
     "collapsed": false,
     "input": [
      "#Import and load the dataset\n",
      "from sklearn.datasets import load_diabetes\n",
      "diabetes = load_diabetes()\n",
      "\n",
      "#import LinearRegression module\n",
      "from sklearn.linear_model import LinearRegression"
     ],
     "language": "python",
     "metadata": {},
     "outputs": [],
     "prompt_number": 326
    },
    {
     "cell_type": "code",
     "collapsed": false,
     "input": [
      "# Split the data into training/testing sets\n",
      "diabetes_X_train = diabetes.data[:-20]\n",
      "diabetes_X_test = diabetes.data[-20:]\n",
      "\n",
      "# Split the targets into training/testing sets\n",
      "diabetes_y_train = diabetes.target[:-20]\n",
      "diabetes_y_test = diabetes.target[-20:]\n",
      "\n",
      "# Create linear regression object\n",
      "r = LinearRegression()\n",
      "\n",
      "# Train the model using the training sets\n",
      "r.fit(diabetes_X_train, diabetes_y_train)"
     ],
     "language": "python",
     "metadata": {},
     "outputs": [
      {
       "metadata": {},
       "output_type": "pyout",
       "prompt_number": 327,
       "text": [
        "LinearRegression(copy_X=True, fit_intercept=True, normalize=False)"
       ]
      }
     ],
     "prompt_number": 327
    },
    {
     "cell_type": "markdown",
     "metadata": {},
     "source": [
      "<h3> Exercise 2.1 </h3>"
     ]
    },
    {
     "cell_type": "code",
     "collapsed": false,
     "input": [
      "print(\"Mean Squared Error: %.2f\"\n",
      "      % (np.mean((r.predict(diabetes_X_test) - diabetes_y_test) ** 2)))"
     ],
     "language": "python",
     "metadata": {},
     "outputs": [
      {
       "output_type": "stream",
       "stream": "stdout",
       "text": [
        "Mean Squared Error: 2004.57\n"
       ]
      }
     ],
     "prompt_number": 328
    },
    {
     "cell_type": "markdown",
     "metadata": {},
     "source": [
      "<div>The mean squared error is lower with all of the features. It is about 25% higher when using only one feature.</div>"
     ]
    },
    {
     "cell_type": "markdown",
     "metadata": {},
     "source": [
      "<h3>Exercise 2.2</h3>"
     ]
    },
    {
     "cell_type": "code",
     "collapsed": false,
     "input": [
      "# Import recursive feature elimination\n",
      "\n",
      "from sklearn.feature_selection import RFE\n",
      "\n",
      "orig_regr = r\n",
      "dia_x_train = diabetes_X_train\n",
      "dia_y_train = diabetes_y_train\n",
      "\n",
      "# Create the RFE object using two features and rank the features for the diabetes datasets\n",
      "# Use the rankings to create an array of all the indicies of the best features\n",
      "def select_n_diabetes(n):\n",
      "    rfe = RFE(estimator=orig_regr, n_features_to_select=n, step=1)\n",
      "    rfe.fit(dia_x_train,diabetes_y_train)\n",
      "    \n",
      "    ret = []\n",
      "    for index in range (0, len(rfe.ranking_)):\n",
      "        if(rfe.ranking_[index] == 1):\n",
      "            ret.append(index)\n",
      "    return ret\n",
      "\n",
      "#Function to return the top n fields from the diabetes dataset\n",
      "def extract_top_n_fields(n):\n",
      "    indicies = select_n_diabetes(n)\n",
      "    return diabetes.data[:,indicies]"
     ],
     "language": "python",
     "metadata": {},
     "outputs": [],
     "prompt_number": 329
    },
    {
     "cell_type": "code",
     "collapsed": false,
     "input": [
      "two_features = extract_top_n_fields(2)\n",
      "\n",
      "# Split the data into training/testing sets\n",
      "diabetes_X_train = two_features[:-20]\n",
      "diabetes_X_test = two_features[-20:]\n",
      "\n",
      "# Create linear regression object\n",
      "regr = LinearRegression()\n",
      "\n",
      "# Train the model using the training sets\n",
      "regr.fit(diabetes_X_train, diabetes_y_train)\n",
      "\n",
      "print(\"Mean Squared Error: %.2f\"\n",
      "      % (np.mean((regr.predict(diabetes_X_test) - diabetes_y_test) ** 2)))\n"
     ],
     "language": "python",
     "metadata": {},
     "outputs": [
      {
       "output_type": "stream",
       "stream": "stdout",
       "text": [
        "Mean Squared Error: 1984.51\n"
       ]
      }
     ],
     "prompt_number": 330
    },
    {
     "cell_type": "markdown",
     "metadata": {},
     "source": [
      "<div>The beter performance came from using the two best features, rather than using all of them. <br><br> Determining the optimal number of features to use: </div>"
     ]
    },
    {
     "cell_type": "code",
     "collapsed": false,
     "input": [
      "mean_square = []\n",
      "for i in range (1, 11):\n",
      "    n_features = extract_top_n_fields(i)\n",
      "\n",
      "    # Split the data into training/testing sets\n",
      "    diabetes_X_train = n_features[:-20]\n",
      "    diabetes_X_test = n_features[-20:]\n",
      "\n",
      "    # Split the targets into training/testing sets\n",
      "    diabetes_y_train = diabetes.target[:-20]\n",
      "    diabetes_y_test = diabetes.target[-20:]\n",
      "\n",
      "    # Create linear regression object\n",
      "    curr_regr = LinearRegression()\n",
      "\n",
      "    # Train the model using the training sets\n",
      "    curr_regr.fit(diabetes_X_train, diabetes_y_train)\n",
      "\n",
      "    mean_square.append(np.mean((curr_regr.predict(diabetes_X_test) - diabetes_y_test) ** 2))"
     ],
     "language": "python",
     "metadata": {},
     "outputs": [],
     "prompt_number": 331
    },
    {
     "cell_type": "code",
     "collapsed": false,
     "input": [
      "num_features_used = range(1,11)"
     ],
     "language": "python",
     "metadata": {},
     "outputs": [],
     "prompt_number": 332
    },
    {
     "cell_type": "code",
     "collapsed": false,
     "input": [
      "plt.title(\"Mean error squared vs. Number of Features used\")\n",
      "plt.xlabel(\"Number of Features Used\")\n",
      "plt.ylabel(\"Mean Error Squared\")\n",
      "\n",
      "plt.scatter(num_features_used, mean_square)"
     ],
     "language": "python",
     "metadata": {},
     "outputs": [
      {
       "metadata": {},
       "output_type": "pyout",
       "prompt_number": 333,
       "text": [
        "<matplotlib.collections.PathCollection at 0xaf19e82c>"
       ]
      },
      {
       "metadata": {},
       "output_type": "display_data",
       "png": "[encoded data removed]",
       "text": [
        "<matplotlib.figure.Figure at 0xaf1ce10c>"
       ]
      }
     ],
     "prompt_number": 333
    },
    {
     "cell_type": "markdown",
     "metadata": {},
     "source": [
      "<div> From this plot, we can see that the ideal number of features to use would be 3. </div>"
     ]
    },
    {
     "cell_type": "markdown",
     "metadata": {},
     "source": [
      "<h2> Exercise 3 </h2>"
     ]
    },
    {
     "cell_type": "markdown",
     "metadata": {},
     "source": [
      "<h3> Exercise 3.1 </h3>"
     ]
    },
    {
     "cell_type": "code",
     "collapsed": false,
     "input": [
      "boston_size = len(boston_house_dataset.data)\n",
      "def boston_mean_squared(percent_train):\n",
      "    upper_index = boston_size * percent_train / 100\n",
      "    \n",
      "    boston_train_x = boston_house_dataset.data[:upper_index]\n",
      "    boston_test_x = boston_house_dataset.data[upper_index:]\n",
      "    \n",
      "    boston_train_y = boston_house_dataset.data[:upper_index]\n",
      "    boston_test_y = boston_house_dataset.data[upper_index:]\n",
      "    \n",
      "    regr = LinearRegression()\n",
      "    \n",
      "    regr.fit(boston_train_x, boston_train_y)\n",
      "    \n",
      "    ret =  np.mean((regr.predict(boston_test_x) - boston_test_y) ** 2)\n",
      "    \n",
      "    return ret"
     ],
     "language": "python",
     "metadata": {},
     "outputs": [],
     "prompt_number": 334
    },
    {
     "cell_type": "code",
     "collapsed": false,
     "input": [
      "percent_training = [80,60,40,20]\n",
      "mean_squared_bos = []\n",
      "\n",
      "for i in percent_training:\n",
      "    mean_squared_bos.append(boston_mean_squared(i))\n",
      "    \n",
      "plt.title(\"Mean Squared Error vs. Percent of dataset used for training (Boston Housing Dataset)\")\n",
      "plt.xlabel(\"Percent of Data used for training\")\n",
      "plt.ylabel(\"Mean Squared Error of test data\")\n",
      "\n",
      "plt.scatter(percent_training, mean_squared_bos)\n",
      "    "
     ],
     "language": "python",
     "metadata": {},
     "outputs": [
      {
       "metadata": {},
       "output_type": "pyout",
       "prompt_number": 335,
       "text": [
        "<matplotlib.collections.PathCollection at 0xaf0f7bcc>"
       ]
      },
      {
       "metadata": {},
       "output_type": "display_data",
       "png": "[encoded data removed]",
       "text": [
        "<matplotlib.figure.Figure at 0xaf13458c>"
       ]
      }
     ],
     "prompt_number": 335
    },
    {
     "cell_type": "markdown",
     "metadata": {},
     "source": [
      "<div> We can see that the mean squared error is lower when a higher percentage of the dataset is used for training. </div>"
     ]
    },
    {
     "cell_type": "markdown",
     "metadata": {},
     "source": [
      "<h3> Exercise 3.2 </h3>"
     ]
    },
    {
     "cell_type": "code",
     "collapsed": false,
     "input": [
      "upper_bound = len(boston_house_dataset.data) * 80 / 100 \n",
      "boston_X_train = boston_house_dataset.data[:upper_bound]\n",
      "boston_X_test = boston_house_dataset.data[upper_bound:]\n",
      "\n",
      "boston_y_train = boston_house_dataset.target[:upper_bound]\n",
      "boston_y_test = boston_house_dataset.data[upper_bound:]\n",
      "\n",
      "regr = LinearRegression()\n",
      "regr.fit(boston_X_train, boston_y_train)\n",
      "\n",
      "def select_n_bos(num_feat):\n",
      "    rec_feat = RFE(estimator = regr, n_features_to_select = num_feat, step = 1)\n",
      "    rec_feat.fit(boston_X_train, boston_y_train)\n",
      "    rankings = rec_feat.ranking_\n",
      "    ret = []\n",
      "    for index in range(0, len(rankings)):\n",
      "        if(rankings[index] == 1):\n",
      "            ret.append(index)\n",
      "    return ret"
     ],
     "language": "python",
     "metadata": {},
     "outputs": [],
     "prompt_number": 336
    },
    {
     "cell_type": "code",
     "collapsed": false,
     "input": [
      "best_combo = []\n",
      "best_mean_error = sys.maxint\n",
      "\n",
      "for i in range(0, len(boston_house_dataset.feature_names)):\n",
      "    indicies = select_n_bos(i + 1)\n",
      "    curr_x_train = boston_house_dataset.data[:,indicies][:upper_bound]\n",
      "    curr_x_test = boston_house_dataset.data[:,indicies][upper_bound:]\n",
      "    \n",
      "    curr_y_train = boston_house_dataset.target[:upper_bound]\n",
      "    curr_y_test = boston_house_dataset.target[upper_bound:]\n",
      "    \n",
      "    curr_reg = LinearRegression()\n",
      "    curr_reg.fit(curr_x_train, curr_y_train)\n",
      "    \n",
      "    curr_mean_square = np.mean((curr_reg.predict(curr_x_test) - curr_y_test) ** 2)\n",
      "    \n",
      "    print \"Num Features: \" + str(i + 1) + \" ; \" + \"Mean Square Error: \" + str(curr_mean_square)\n",
      "    \n",
      "    if(curr_mean_square < best_mean_error):\n",
      "        best_mean_error = curr_mean_square\n",
      "        best_combo = indicies\n",
      "        \n"
     ],
     "language": "python",
     "metadata": {},
     "outputs": [
      {
       "output_type": "stream",
       "stream": "stdout",
       "text": [
        "Num Features: 1 ; Mean Square Error: 73.9548719145\n",
        "Num Features: 2 ; Mean Square Error: 61.1162385092\n",
        "Num Features: 3 ; Mean Square Error: 55.2346009213\n",
        "Num Features: 4 ; Mean Square Error: 37.6828219566"
       ]
      },
      {
       "output_type": "stream",
       "stream": "stdout",
       "text": [
        "\n",
        "Num Features: 5 ; Mean Square Error: 34.7321242338\n",
        "Num Features: 6 ; Mean Square Error: 22.8461369971"
       ]
      },
      {
       "output_type": "stream",
       "stream": "stdout",
       "text": [
        "\n",
        "Num Features: 7 ; Mean Square Error: 28.2843048453\n",
        "Num Features: 8 ; Mean Square Error: 32.554856413\n",
        "Num Features: 9 ; Mean Square Error: 31.7573887312\n",
        "Num Features: 10 ; Mean Square Error: 31.4300015084"
       ]
      },
      {
       "output_type": "stream",
       "stream": "stdout",
       "text": [
        "\n",
        "Num Features: 11 ; Mean Square Error: 30.8890150314\n",
        "Num Features: 12 ; Mean Square Error: 30.8061286651\n",
        "Num Features: 13 ; Mean Square Error: 33.0756264923\n"
       ]
      }
     ],
     "prompt_number": 337
    },
    {
     "cell_type": "code",
     "collapsed": false,
     "input": [
      "best_features = []\n",
      "for x in best_combo:\n",
      "    best_features.append(boston_house_dataset.feature_names[x])\n",
      "    \n",
      "print \"Best Features Combination: \" + str(best_features)"
     ],
     "language": "python",
     "metadata": {},
     "outputs": [
      {
       "output_type": "stream",
       "stream": "stdout",
       "text": [
        "Best Features Combination: ['CHAS', 'NOX', 'RM', 'DIS', 'PTRATIO', 'LSTAT']\n"
       ]
      }
     ],
     "prompt_number": 338
    },
    {
     "cell_type": "code",
     "collapsed": false,
     "input": [
      "complete_x = boston_house_dataset.data[:,best_combo]\n",
      "complete_y = boston_house_dataset.target\n",
      "\n",
      "def find_mean_square(percent_training):\n",
      "    upper_bound = len(complete_x) * percent_training / 100\n",
      "    \n",
      "    training_x = complete_x[:upper_bound]\n",
      "    testing_x = complete_x[upper_bound:]\n",
      "    \n",
      "    training_y = complete_y[:upper_bound]\n",
      "    testing_y = complete_y[upper_bound:]\n",
      "    \n",
      "    curr_regr = LinearRegression()\n",
      "    curr_regr.fit(training_x, training_y)\n",
      "    \n",
      "    return np.mean((curr_regr.predict(testing_x) - testing_y) ** 2)"
     ],
     "language": "python",
     "metadata": {},
     "outputs": [],
     "prompt_number": 339
    },
    {
     "cell_type": "code",
     "collapsed": false,
     "input": [
      "percent_train = [80,60,40,20]\n",
      "mean_squares_ = []\n",
      "\n",
      "for x in percent_train:\n",
      "    curr_value = find_mean_square(x)\n",
      "    mean_squares_.append(curr_value)\n",
      "    print \"Percent of Data in Training: \" + str(x) + \"; \" + \"Mean Squared Error: \" + str(curr_value)\n",
      "    \n",
      "plt.title(\"Mean Square Error vs. Percent of Data used in training (with best selected features)\")\n",
      "plt.xlabel(\"Percent of Dataset used in Training\")\n",
      "plt.ylabel(\"Mean Square Error\")\n",
      "\n",
      "plt.scatter(percent_train, mean_squares_)"
     ],
     "language": "python",
     "metadata": {},
     "outputs": [
      {
       "output_type": "stream",
       "stream": "stdout",
       "text": [
        "Percent of Data in Training: 80; Mean Squared Error: 22.8461369971\n",
        "Percent of Data in Training: 60; Mean Squared Error: 62.0897103418\n",
        "Percent of Data in Training: 40; Mean Squared Error: 43.7881398263\n",
        "Percent of Data in Training: 20; Mean Squared Error: 39.6254356837\n"
       ]
      },
      {
       "metadata": {},
       "output_type": "pyout",
       "prompt_number": 340,
       "text": [
        "<matplotlib.collections.PathCollection at 0xaf0d94ac>"
       ]
      },
      {
       "metadata": {},
       "output_type": "display_data",
       "png": "[encoded data removed]",
       "text": [
        "<matplotlib.figure.Figure at 0xaf12c60c>"
       ]
      }
     ],
     "prompt_number": 340
    },
    {
     "cell_type": "markdown",
     "metadata": {},
     "source": [
      "<h2> Exercise 4 </h2>"
     ]
    },
    {
     "cell_type": "code",
     "collapsed": false,
     "input": [
      "#import and load data\n",
      "from sklearn.datasets import load_iris\n",
      "iris_dataset = load_iris()\n",
      "\n",
      "#import svm\n",
      "from sklearn import svm"
     ],
     "language": "python",
     "metadata": {},
     "outputs": [],
     "prompt_number": 341
    },
    {
     "cell_type": "markdown",
     "metadata": {},
     "source": [
      "<h3> Part 1: </h3>"
     ]
    },
    {
     "cell_type": "heading",
     "level": 4,
     "metadata": {},
     "source": [
      "First, the linear SVM"
     ]
    },
    {
     "cell_type": "code",
     "collapsed": false,
     "input": [
      "upper_bound = len(iris_dataset.data) * 80 / 100\n",
      "\n",
      "iris_training_x = iris_dataset.data[:upper_bound]\n",
      "iris_test_x = iris_dataset.data[upper_bound:]\n",
      "\n",
      "iris_training_y = iris_dataset.target[:upper_bound]\n",
      "iris_test_y = iris_dataset.target[upper_bound:]\n",
      "\n",
      "clf_linear = svm.SVC(kernel=\"linear\")\n",
      "clf_linear.fit(iris_training_x, iris_training_y)\n",
      "\n",
      "test_pred = clf_linear.predict(iris_test_x)\n",
      "\n",
      "test_errors = 0\n",
      "for i in range(len(test_pred)):\n",
      "    if(test_pred [i] != iris_test_y[i]):\n",
      "        test_errors += 1\n",
      "        \n",
      "print \"Test Errors: \" + str(test_errors) + \" out of \" + str(len(test_pred))\n",
      "\n",
      "pred = clf_linear.predict(iris_dataset.data)\n",
      "total_errors = 0 \n",
      "for i in range(len(iris_dataset.target)):\n",
      "    if(pred[i] != iris_dataset.target[i]):\n",
      "        total_errors += 1\n",
      "        \n",
      "print \"Total Errors: \" + str(total_errors) + \" out of \" + str(len(iris_dataset.target)) "
     ],
     "language": "python",
     "metadata": {},
     "outputs": [
      {
       "output_type": "stream",
       "stream": "stdout",
       "text": [
        "Test Errors: 4 out of 30\n",
        "Total Errors: 5 out of 150\n"
       ]
      }
     ],
     "prompt_number": 342
    },
    {
     "cell_type": "heading",
     "level": 4,
     "metadata": {},
     "source": [
      "Now for the Non-linear SVM"
     ]
    },
    {
     "cell_type": "code",
     "collapsed": false,
     "input": [
      "upper_bound = len(iris_dataset.data) * 80 / 100\n",
      "\n",
      "iris_training_x = iris_dataset.data[:upper_bound]\n",
      "iris_test_x = iris_dataset.data[upper_bound:]\n",
      "\n",
      "iris_training_y = iris_dataset.target[:upper_bound]\n",
      "iris_test_y = iris_dataset.target[upper_bound:]\n",
      "\n",
      "clf_linear = svm.SVC(kernel=\"rbf\")\n",
      "clf_linear.fit(iris_training_x, iris_training_y)\n",
      "\n",
      "test_pred = clf_linear.predict(iris_test_x)\n",
      "\n",
      "test_errors = 0\n",
      "for i in range(len(test_pred)):\n",
      "    if(test_pred [i] != iris_test_y[i]):\n",
      "        test_errors += 1\n",
      "        \n",
      "print \"Test Errors: \" + str(test_errors) + \" out of \" + str(len(test_pred))\n",
      "\n",
      "pred = clf_linear.predict(iris_dataset.data)\n",
      "total_errors = 0 \n",
      "for i in range(len(iris_dataset.target)):\n",
      "    if(pred[i] != iris_dataset.target[i]):\n",
      "        total_errors += 1\n",
      "        \n",
      "print \"Total Errors: \" + str(total_errors) + \" out of \" + str(len(iris_dataset.target)) "
     ],
     "language": "python",
     "metadata": {},
     "outputs": [
      {
       "output_type": "stream",
       "stream": "stdout",
       "text": [
        "Test Errors: 5 out of 30\n",
        "Total Errors: 8 out of 150\n"
       ]
      }
     ],
     "prompt_number": 343
    },
    {
     "cell_type": "markdown",
     "metadata": {},
     "source": [
      "<h3> Part 2: </h3>"
     ]
    },
    {
     "cell_type": "code",
     "collapsed": false,
     "input": [
      "#import DecisionTreeClassifier\n",
      "from sklearn.tree import DecisionTreeClassifier"
     ],
     "language": "python",
     "metadata": {},
     "outputs": [],
     "prompt_number": 344
    },
    {
     "cell_type": "code",
     "collapsed": false,
     "input": [
      "clf_tree = DecisionTreeClassifier()\n",
      "clf_tree.fit(iris_training_x, iris_training_y)\n",
      "\n",
      "test_pred = clf_tree.predict(iris_test_x)\n",
      "\n",
      "test_errors = 0\n",
      "for i in range(len(test_pred)):\n",
      "    if(test_pred [i] != iris_test_y[i]):\n",
      "        test_errors += 1\n",
      "        \n",
      "print \"Test Errors: \" + str(test_errors) + \" out of \" + str(len(test_pred))\n",
      "\n",
      "pred = clf_tree.predict(iris_dataset.data)\n",
      "total_errors = 0 \n",
      "for i in range(len(iris_dataset.target)):\n",
      "    if(pred[i] != iris_dataset.target[i]):\n",
      "        total_errors += 1\n",
      "        \n",
      "print \"Total Errors: \" + str(total_errors) + \" out of \" + str(len(iris_dataset.target)) "
     ],
     "language": "python",
     "metadata": {},
     "outputs": [
      {
       "output_type": "stream",
       "stream": "stdout",
       "text": [
        "Test Errors: 6 out of 30\n",
        "Total Errors: 6 out of 150\n"
       ]
      }
     ],
     "prompt_number": 345
    },
    {
     "cell_type": "heading",
     "level": 2,
     "metadata": {},
     "source": [
      "Exercise 5"
     ]
    },
    {
     "cell_type": "code",
     "collapsed": false,
     "input": [
      "#imports\n",
      "from sklearn.cluster import KMeans\n",
      "from sklearn import metrics"
     ],
     "language": "python",
     "metadata": {},
     "outputs": [],
     "prompt_number": 346
    },
    {
     "cell_type": "code",
     "collapsed": false,
     "input": [
      "#Create a KMeans for 3 clusters\n",
      "upper_bound = len(iris_dataset.data) * 80 / 100\n",
      "iris_x_training = iris_dataset.data[:upper_bound]\n",
      "iris_x_test = iris_dataset.data[upper_bound:]\n",
      "\n",
      "iris_y_training = iris_dataset.target[:upper_bound]\n",
      "iris_y_test = iris_dataset.target[upper_bound:]\n",
      "\n",
      "km = KMeans(n_clusters = 3)\n",
      "km.fit(iris_x_training)\n",
      "\n",
      "pt = km.predict(iris_x_test)\n",
      "\n",
      "test_errors = 0\n",
      "for i in range(len(pt)):\n",
      "    if(pt [i] != iris_y_test[i]):\n",
      "        test_errors += 1\n",
      "        \n",
      "print \"Test Errors: \" + str(test_errors) + \" out of \" + str(len(pt))\n",
      "\n",
      "p = km.predict(iris_dataset.data)\n",
      "total_errors = 0\n",
      "for i in range(len(p)):\n",
      "    if(p[i] != iris_dataset.target[i]):\n",
      "        total_errors += 1\n",
      "        \n",
      "print \"Total Errors: \" + str(total_errors) + \" out of \" + str(len(p))"
     ],
     "language": "python",
     "metadata": {},
     "outputs": [
      {
       "output_type": "stream",
       "stream": "stdout",
       "text": [
        "Test Errors: 8 out of 30\n",
        "Total Errors: 15 out of 150\n"
       ]
      }
     ],
     "prompt_number": 347
    },
    {
     "cell_type": "markdown",
     "metadata": {},
     "source": [
      "<div> The classification for SVM is considerably better. </div>"
     ]
    }
   ],
   "metadata": {}
  }
 ]
}